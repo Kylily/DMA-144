{
  "nbformat": 4,
  "nbformat_minor": 0,
  "metadata": {
    "colab": {
      "provenance": [],
      "collapsed_sections": [
        "GTO2KMti07__",
        "YAnuY8Sv1DoO",
        "ZlDfGvy61EMS",
        "1foS74O01FfP",
        "2rFY8D4Q1GsZ"
      ]
    },
    "kernelspec": {
      "name": "python3",
      "display_name": "Python 3"
    }
  },
  "cells": [
    {
      "cell_type": "markdown",
      "metadata": {
        "id": "1xxMXNDF7ckw"
      },
      "source": [
        "\n",
        "\n",
        "```\n",
        "# This is formatted as code\n",
        "```\n",
        "\n",
        "# DMA Fall 22\n",
        "\n",
        "**Note** : This entire lab will be manually evaluated.\n",
        "\n",
        "Name : ''\n",
        "Collaborator : ''"
      ]
    },
    {
      "cell_type": "markdown",
      "metadata": {
        "id": "Oyb_RNpFreOr"
      },
      "source": [
        "# Lab 4: Neural Networks #\n"
      ]
    },
    {
      "cell_type": "code",
      "metadata": {
        "id": "yj9Uh79ereOs"
      },
      "source": [
        "import pandas as pd\n",
        "from sklearn.neural_network import MLPClassifier\n",
        "from sklearn.svm import SVC\n",
        "\n",
        "from sklearn.preprocessing import StandardScaler, MinMaxScaler\n",
        "from sklearn.preprocessing import LabelEncoder, OneHotEncoder\n",
        "from sklearn.feature_extraction import DictVectorizer\n",
        "\n",
        "from sklearn.pipeline import Pipeline\n",
        "from sklearn.metrics import accuracy_score\n",
        "from sklearn.model_selection import train_test_split\n",
        "from sklearn.model_selection import GridSearchCV, ParameterGrid\n",
        "\n",
        "import numpy as np\n",
        "\n",
        "import warnings\n",
        "warnings.filterwarnings(\"ignore\")"
      ],
      "execution_count": null,
      "outputs": []
    },
    {
      "cell_type": "code",
      "metadata": {
        "id": "n6SRFrhfreOt",
        "colab": {
          "base_uri": "https://localhost:8080/",
          "height": 588
        },
        "outputId": "0b6f53f7-4283-4bd8-c978-119885f0e748"
      },
      "source": [
        "!wget http://askoski.berkeley.edu/~zp/lab_4_training.csv\n",
        "!wget http://askoski.berkeley.edu/~zp/lab_4_test.csv\n",
        "\n",
        "df_train = pd.read_csv('./lab_4_training.csv')\n",
        "df_test = pd.read_csv('./lab_4_test.csv')\n",
        "df_train.head()"
      ],
      "execution_count": null,
      "outputs": [
        {
          "output_type": "stream",
          "name": "stdout",
          "text": [
            "--2022-09-28 12:25:43--  http://askoski.berkeley.edu/~zp/lab_4_training.csv\n",
            "Resolving askoski.berkeley.edu (askoski.berkeley.edu)... 169.229.192.179\n",
            "Connecting to askoski.berkeley.edu (askoski.berkeley.edu)|169.229.192.179|:80... connected.\n",
            "HTTP request sent, awaiting response... 200 OK\n",
            "Length: 79177 (77K) [text/csv]\n",
            "Saving to: ‘lab_4_training.csv.4’\n",
            "\n",
            "\rlab_4_training.csv.   0%[                    ]       0  --.-KB/s               \rlab_4_training.csv. 100%[===================>]  77.32K  --.-KB/s    in 0.04s   \n",
            "\n",
            "2022-09-28 12:25:43 (1.90 MB/s) - ‘lab_4_training.csv.4’ saved [79177/79177]\n",
            "\n",
            "--2022-09-28 12:25:43--  http://askoski.berkeley.edu/~zp/lab_4_test.csv\n",
            "Resolving askoski.berkeley.edu (askoski.berkeley.edu)... 169.229.192.179\n",
            "Connecting to askoski.berkeley.edu (askoski.berkeley.edu)|169.229.192.179|:80... connected.\n",
            "HTTP request sent, awaiting response... 200 OK\n",
            "Length: 26519 (26K) [text/csv]\n",
            "Saving to: ‘lab_4_test.csv.4’\n",
            "\n",
            "lab_4_test.csv.4    100%[===================>]  25.90K  --.-KB/s    in 0.02s   \n",
            "\n",
            "2022-09-28 12:25:43 (1.34 MB/s) - ‘lab_4_test.csv.4’ saved [26519/26519]\n",
            "\n"
          ]
        },
        {
          "output_type": "execute_result",
          "data": {
            "text/plain": [
              "   Unnamed: 0  gender  age    year eyecolor  height  miles  brothers  sisters  \\\n",
              "0         577    male   20   third    hazel    72.0  180.0         0        0   \n",
              "1         677    male   19  second    hazel    72.0  120.0         1        1   \n",
              "2        1738    male   20  second    brown    63.0   55.0         1        2   \n",
              "3        1355    male   20   third    green    78.0  200.0         0        0   \n",
              "4         891  female   19  second    green    67.0  280.0         2        0   \n",
              "\n",
              "   computertime exercise  exercisehours  musiccds  playgames  watchtv  \n",
              "0           5.0       No            0.0     100.0       10.0     10.0  \n",
              "1          16.0      Yes            9.0      70.0        3.0      5.0  \n",
              "2          15.0      Yes            4.5      15.0        4.0     13.0  \n",
              "3          10.0      Yes            9.0      20.0       10.0     10.0  \n",
              "4           4.0      Yes            2.0     164.0        0.0      2.0  "
            ],
            "text/html": [
              "\n",
              "  <div id=\"df-6a8b54d1-019f-44fc-817a-325678eb39dd\">\n",
              "    <div class=\"colab-df-container\">\n",
              "      <div>\n",
              "<style scoped>\n",
              "    .dataframe tbody tr th:only-of-type {\n",
              "        vertical-align: middle;\n",
              "    }\n",
              "\n",
              "    .dataframe tbody tr th {\n",
              "        vertical-align: top;\n",
              "    }\n",
              "\n",
              "    .dataframe thead th {\n",
              "        text-align: right;\n",
              "    }\n",
              "</style>\n",
              "<table border=\"1\" class=\"dataframe\">\n",
              "  <thead>\n",
              "    <tr style=\"text-align: right;\">\n",
              "      <th></th>\n",
              "      <th>Unnamed: 0</th>\n",
              "      <th>gender</th>\n",
              "      <th>age</th>\n",
              "      <th>year</th>\n",
              "      <th>eyecolor</th>\n",
              "      <th>height</th>\n",
              "      <th>miles</th>\n",
              "      <th>brothers</th>\n",
              "      <th>sisters</th>\n",
              "      <th>computertime</th>\n",
              "      <th>exercise</th>\n",
              "      <th>exercisehours</th>\n",
              "      <th>musiccds</th>\n",
              "      <th>playgames</th>\n",
              "      <th>watchtv</th>\n",
              "    </tr>\n",
              "  </thead>\n",
              "  <tbody>\n",
              "    <tr>\n",
              "      <th>0</th>\n",
              "      <td>577</td>\n",
              "      <td>male</td>\n",
              "      <td>20</td>\n",
              "      <td>third</td>\n",
              "      <td>hazel</td>\n",
              "      <td>72.0</td>\n",
              "      <td>180.0</td>\n",
              "      <td>0</td>\n",
              "      <td>0</td>\n",
              "      <td>5.0</td>\n",
              "      <td>No</td>\n",
              "      <td>0.0</td>\n",
              "      <td>100.0</td>\n",
              "      <td>10.0</td>\n",
              "      <td>10.0</td>\n",
              "    </tr>\n",
              "    <tr>\n",
              "      <th>1</th>\n",
              "      <td>677</td>\n",
              "      <td>male</td>\n",
              "      <td>19</td>\n",
              "      <td>second</td>\n",
              "      <td>hazel</td>\n",
              "      <td>72.0</td>\n",
              "      <td>120.0</td>\n",
              "      <td>1</td>\n",
              "      <td>1</td>\n",
              "      <td>16.0</td>\n",
              "      <td>Yes</td>\n",
              "      <td>9.0</td>\n",
              "      <td>70.0</td>\n",
              "      <td>3.0</td>\n",
              "      <td>5.0</td>\n",
              "    </tr>\n",
              "    <tr>\n",
              "      <th>2</th>\n",
              "      <td>1738</td>\n",
              "      <td>male</td>\n",
              "      <td>20</td>\n",
              "      <td>second</td>\n",
              "      <td>brown</td>\n",
              "      <td>63.0</td>\n",
              "      <td>55.0</td>\n",
              "      <td>1</td>\n",
              "      <td>2</td>\n",
              "      <td>15.0</td>\n",
              "      <td>Yes</td>\n",
              "      <td>4.5</td>\n",
              "      <td>15.0</td>\n",
              "      <td>4.0</td>\n",
              "      <td>13.0</td>\n",
              "    </tr>\n",
              "    <tr>\n",
              "      <th>3</th>\n",
              "      <td>1355</td>\n",
              "      <td>male</td>\n",
              "      <td>20</td>\n",
              "      <td>third</td>\n",
              "      <td>green</td>\n",
              "      <td>78.0</td>\n",
              "      <td>200.0</td>\n",
              "      <td>0</td>\n",
              "      <td>0</td>\n",
              "      <td>10.0</td>\n",
              "      <td>Yes</td>\n",
              "      <td>9.0</td>\n",
              "      <td>20.0</td>\n",
              "      <td>10.0</td>\n",
              "      <td>10.0</td>\n",
              "    </tr>\n",
              "    <tr>\n",
              "      <th>4</th>\n",
              "      <td>891</td>\n",
              "      <td>female</td>\n",
              "      <td>19</td>\n",
              "      <td>second</td>\n",
              "      <td>green</td>\n",
              "      <td>67.0</td>\n",
              "      <td>280.0</td>\n",
              "      <td>2</td>\n",
              "      <td>0</td>\n",
              "      <td>4.0</td>\n",
              "      <td>Yes</td>\n",
              "      <td>2.0</td>\n",
              "      <td>164.0</td>\n",
              "      <td>0.0</td>\n",
              "      <td>2.0</td>\n",
              "    </tr>\n",
              "  </tbody>\n",
              "</table>\n",
              "</div>\n",
              "      <button class=\"colab-df-convert\" onclick=\"convertToInteractive('df-6a8b54d1-019f-44fc-817a-325678eb39dd')\"\n",
              "              title=\"Convert this dataframe to an interactive table.\"\n",
              "              style=\"display:none;\">\n",
              "        \n",
              "  <svg xmlns=\"http://www.w3.org/2000/svg\" height=\"24px\"viewBox=\"0 0 24 24\"\n",
              "       width=\"24px\">\n",
              "    <path d=\"M0 0h24v24H0V0z\" fill=\"none\"/>\n",
              "    <path d=\"M18.56 5.44l.94 2.06.94-2.06 2.06-.94-2.06-.94-.94-2.06-.94 2.06-2.06.94zm-11 1L8.5 8.5l.94-2.06 2.06-.94-2.06-.94L8.5 2.5l-.94 2.06-2.06.94zm10 10l.94 2.06.94-2.06 2.06-.94-2.06-.94-.94-2.06-.94 2.06-2.06.94z\"/><path d=\"M17.41 7.96l-1.37-1.37c-.4-.4-.92-.59-1.43-.59-.52 0-1.04.2-1.43.59L10.3 9.45l-7.72 7.72c-.78.78-.78 2.05 0 2.83L4 21.41c.39.39.9.59 1.41.59.51 0 1.02-.2 1.41-.59l7.78-7.78 2.81-2.81c.8-.78.8-2.07 0-2.86zM5.41 20L4 18.59l7.72-7.72 1.47 1.35L5.41 20z\"/>\n",
              "  </svg>\n",
              "      </button>\n",
              "      \n",
              "  <style>\n",
              "    .colab-df-container {\n",
              "      display:flex;\n",
              "      flex-wrap:wrap;\n",
              "      gap: 12px;\n",
              "    }\n",
              "\n",
              "    .colab-df-convert {\n",
              "      background-color: #E8F0FE;\n",
              "      border: none;\n",
              "      border-radius: 50%;\n",
              "      cursor: pointer;\n",
              "      display: none;\n",
              "      fill: #1967D2;\n",
              "      height: 32px;\n",
              "      padding: 0 0 0 0;\n",
              "      width: 32px;\n",
              "    }\n",
              "\n",
              "    .colab-df-convert:hover {\n",
              "      background-color: #E2EBFA;\n",
              "      box-shadow: 0px 1px 2px rgba(60, 64, 67, 0.3), 0px 1px 3px 1px rgba(60, 64, 67, 0.15);\n",
              "      fill: #174EA6;\n",
              "    }\n",
              "\n",
              "    [theme=dark] .colab-df-convert {\n",
              "      background-color: #3B4455;\n",
              "      fill: #D2E3FC;\n",
              "    }\n",
              "\n",
              "    [theme=dark] .colab-df-convert:hover {\n",
              "      background-color: #434B5C;\n",
              "      box-shadow: 0px 1px 3px 1px rgba(0, 0, 0, 0.15);\n",
              "      filter: drop-shadow(0px 1px 2px rgba(0, 0, 0, 0.3));\n",
              "      fill: #FFFFFF;\n",
              "    }\n",
              "  </style>\n",
              "\n",
              "      <script>\n",
              "        const buttonEl =\n",
              "          document.querySelector('#df-6a8b54d1-019f-44fc-817a-325678eb39dd button.colab-df-convert');\n",
              "        buttonEl.style.display =\n",
              "          google.colab.kernel.accessAllowed ? 'block' : 'none';\n",
              "\n",
              "        async function convertToInteractive(key) {\n",
              "          const element = document.querySelector('#df-6a8b54d1-019f-44fc-817a-325678eb39dd');\n",
              "          const dataTable =\n",
              "            await google.colab.kernel.invokeFunction('convertToInteractive',\n",
              "                                                     [key], {});\n",
              "          if (!dataTable) return;\n",
              "\n",
              "          const docLinkHtml = 'Like what you see? Visit the ' +\n",
              "            '<a target=\"_blank\" href=https://colab.research.google.com/notebooks/data_table.ipynb>data table notebook</a>'\n",
              "            + ' to learn more about interactive tables.';\n",
              "          element.innerHTML = '';\n",
              "          dataTable['output_type'] = 'display_data';\n",
              "          await google.colab.output.renderOutput(dataTable, element);\n",
              "          const docLink = document.createElement('div');\n",
              "          docLink.innerHTML = docLinkHtml;\n",
              "          element.appendChild(docLink);\n",
              "        }\n",
              "      </script>\n",
              "    </div>\n",
              "  </div>\n",
              "  "
            ]
          },
          "metadata": {},
          "execution_count": 190
        }
      ]
    },
    {
      "cell_type": "code",
      "metadata": {
        "id": "GowXG5FncrPD",
        "outputId": "6c7972cb-513d-43ed-debc-23f0d39d6f93",
        "colab": {
          "base_uri": "https://localhost:8080/",
          "height": 206
        }
      },
      "source": [
        "df_test.head()"
      ],
      "execution_count": null,
      "outputs": [
        {
          "output_type": "execute_result",
          "data": {
            "text/plain": [
              "   Unnamed: 0 gender  age    year eyecolor  height  miles  brothers  sisters  \\\n",
              "0        1303   male   20  second    green    73.0  210.0         0        1   \n",
              "1          36   male   20   third    other    71.0   90.0         1        0   \n",
              "2         489   male   22  fourth    hazel    75.0  200.0         0        1   \n",
              "3        1415   male   19  second    brown    72.0   35.0         2        2   \n",
              "4         616   male   22  fourth    hazel    71.0   15.0         2        1   \n",
              "\n",
              "   computertime exercise  exercisehours  musiccds  playgames  watchtv  \n",
              "0          10.0      Yes            5.0      50.0        1.0     15.0  \n",
              "1          15.0      Yes            4.0      10.0        0.0      1.0  \n",
              "2           1.0      Yes            2.0     150.0        1.0     10.0  \n",
              "3          20.0      Yes            5.0     100.0        0.0      7.0  \n",
              "4          10.0      Yes            7.0      10.0        0.0      5.0  "
            ],
            "text/html": [
              "\n",
              "  <div id=\"df-4261b26f-2f77-4305-836a-33d5378795f2\">\n",
              "    <div class=\"colab-df-container\">\n",
              "      <div>\n",
              "<style scoped>\n",
              "    .dataframe tbody tr th:only-of-type {\n",
              "        vertical-align: middle;\n",
              "    }\n",
              "\n",
              "    .dataframe tbody tr th {\n",
              "        vertical-align: top;\n",
              "    }\n",
              "\n",
              "    .dataframe thead th {\n",
              "        text-align: right;\n",
              "    }\n",
              "</style>\n",
              "<table border=\"1\" class=\"dataframe\">\n",
              "  <thead>\n",
              "    <tr style=\"text-align: right;\">\n",
              "      <th></th>\n",
              "      <th>Unnamed: 0</th>\n",
              "      <th>gender</th>\n",
              "      <th>age</th>\n",
              "      <th>year</th>\n",
              "      <th>eyecolor</th>\n",
              "      <th>height</th>\n",
              "      <th>miles</th>\n",
              "      <th>brothers</th>\n",
              "      <th>sisters</th>\n",
              "      <th>computertime</th>\n",
              "      <th>exercise</th>\n",
              "      <th>exercisehours</th>\n",
              "      <th>musiccds</th>\n",
              "      <th>playgames</th>\n",
              "      <th>watchtv</th>\n",
              "    </tr>\n",
              "  </thead>\n",
              "  <tbody>\n",
              "    <tr>\n",
              "      <th>0</th>\n",
              "      <td>1303</td>\n",
              "      <td>male</td>\n",
              "      <td>20</td>\n",
              "      <td>second</td>\n",
              "      <td>green</td>\n",
              "      <td>73.0</td>\n",
              "      <td>210.0</td>\n",
              "      <td>0</td>\n",
              "      <td>1</td>\n",
              "      <td>10.0</td>\n",
              "      <td>Yes</td>\n",
              "      <td>5.0</td>\n",
              "      <td>50.0</td>\n",
              "      <td>1.0</td>\n",
              "      <td>15.0</td>\n",
              "    </tr>\n",
              "    <tr>\n",
              "      <th>1</th>\n",
              "      <td>36</td>\n",
              "      <td>male</td>\n",
              "      <td>20</td>\n",
              "      <td>third</td>\n",
              "      <td>other</td>\n",
              "      <td>71.0</td>\n",
              "      <td>90.0</td>\n",
              "      <td>1</td>\n",
              "      <td>0</td>\n",
              "      <td>15.0</td>\n",
              "      <td>Yes</td>\n",
              "      <td>4.0</td>\n",
              "      <td>10.0</td>\n",
              "      <td>0.0</td>\n",
              "      <td>1.0</td>\n",
              "    </tr>\n",
              "    <tr>\n",
              "      <th>2</th>\n",
              "      <td>489</td>\n",
              "      <td>male</td>\n",
              "      <td>22</td>\n",
              "      <td>fourth</td>\n",
              "      <td>hazel</td>\n",
              "      <td>75.0</td>\n",
              "      <td>200.0</td>\n",
              "      <td>0</td>\n",
              "      <td>1</td>\n",
              "      <td>1.0</td>\n",
              "      <td>Yes</td>\n",
              "      <td>2.0</td>\n",
              "      <td>150.0</td>\n",
              "      <td>1.0</td>\n",
              "      <td>10.0</td>\n",
              "    </tr>\n",
              "    <tr>\n",
              "      <th>3</th>\n",
              "      <td>1415</td>\n",
              "      <td>male</td>\n",
              "      <td>19</td>\n",
              "      <td>second</td>\n",
              "      <td>brown</td>\n",
              "      <td>72.0</td>\n",
              "      <td>35.0</td>\n",
              "      <td>2</td>\n",
              "      <td>2</td>\n",
              "      <td>20.0</td>\n",
              "      <td>Yes</td>\n",
              "      <td>5.0</td>\n",
              "      <td>100.0</td>\n",
              "      <td>0.0</td>\n",
              "      <td>7.0</td>\n",
              "    </tr>\n",
              "    <tr>\n",
              "      <th>4</th>\n",
              "      <td>616</td>\n",
              "      <td>male</td>\n",
              "      <td>22</td>\n",
              "      <td>fourth</td>\n",
              "      <td>hazel</td>\n",
              "      <td>71.0</td>\n",
              "      <td>15.0</td>\n",
              "      <td>2</td>\n",
              "      <td>1</td>\n",
              "      <td>10.0</td>\n",
              "      <td>Yes</td>\n",
              "      <td>7.0</td>\n",
              "      <td>10.0</td>\n",
              "      <td>0.0</td>\n",
              "      <td>5.0</td>\n",
              "    </tr>\n",
              "  </tbody>\n",
              "</table>\n",
              "</div>\n",
              "      <button class=\"colab-df-convert\" onclick=\"convertToInteractive('df-4261b26f-2f77-4305-836a-33d5378795f2')\"\n",
              "              title=\"Convert this dataframe to an interactive table.\"\n",
              "              style=\"display:none;\">\n",
              "        \n",
              "  <svg xmlns=\"http://www.w3.org/2000/svg\" height=\"24px\"viewBox=\"0 0 24 24\"\n",
              "       width=\"24px\">\n",
              "    <path d=\"M0 0h24v24H0V0z\" fill=\"none\"/>\n",
              "    <path d=\"M18.56 5.44l.94 2.06.94-2.06 2.06-.94-2.06-.94-.94-2.06-.94 2.06-2.06.94zm-11 1L8.5 8.5l.94-2.06 2.06-.94-2.06-.94L8.5 2.5l-.94 2.06-2.06.94zm10 10l.94 2.06.94-2.06 2.06-.94-2.06-.94-.94-2.06-.94 2.06-2.06.94z\"/><path d=\"M17.41 7.96l-1.37-1.37c-.4-.4-.92-.59-1.43-.59-.52 0-1.04.2-1.43.59L10.3 9.45l-7.72 7.72c-.78.78-.78 2.05 0 2.83L4 21.41c.39.39.9.59 1.41.59.51 0 1.02-.2 1.41-.59l7.78-7.78 2.81-2.81c.8-.78.8-2.07 0-2.86zM5.41 20L4 18.59l7.72-7.72 1.47 1.35L5.41 20z\"/>\n",
              "  </svg>\n",
              "      </button>\n",
              "      \n",
              "  <style>\n",
              "    .colab-df-container {\n",
              "      display:flex;\n",
              "      flex-wrap:wrap;\n",
              "      gap: 12px;\n",
              "    }\n",
              "\n",
              "    .colab-df-convert {\n",
              "      background-color: #E8F0FE;\n",
              "      border: none;\n",
              "      border-radius: 50%;\n",
              "      cursor: pointer;\n",
              "      display: none;\n",
              "      fill: #1967D2;\n",
              "      height: 32px;\n",
              "      padding: 0 0 0 0;\n",
              "      width: 32px;\n",
              "    }\n",
              "\n",
              "    .colab-df-convert:hover {\n",
              "      background-color: #E2EBFA;\n",
              "      box-shadow: 0px 1px 2px rgba(60, 64, 67, 0.3), 0px 1px 3px 1px rgba(60, 64, 67, 0.15);\n",
              "      fill: #174EA6;\n",
              "    }\n",
              "\n",
              "    [theme=dark] .colab-df-convert {\n",
              "      background-color: #3B4455;\n",
              "      fill: #D2E3FC;\n",
              "    }\n",
              "\n",
              "    [theme=dark] .colab-df-convert:hover {\n",
              "      background-color: #434B5C;\n",
              "      box-shadow: 0px 1px 3px 1px rgba(0, 0, 0, 0.15);\n",
              "      filter: drop-shadow(0px 1px 2px rgba(0, 0, 0, 0.3));\n",
              "      fill: #FFFFFF;\n",
              "    }\n",
              "  </style>\n",
              "\n",
              "      <script>\n",
              "        const buttonEl =\n",
              "          document.querySelector('#df-4261b26f-2f77-4305-836a-33d5378795f2 button.colab-df-convert');\n",
              "        buttonEl.style.display =\n",
              "          google.colab.kernel.accessAllowed ? 'block' : 'none';\n",
              "\n",
              "        async function convertToInteractive(key) {\n",
              "          const element = document.querySelector('#df-4261b26f-2f77-4305-836a-33d5378795f2');\n",
              "          const dataTable =\n",
              "            await google.colab.kernel.invokeFunction('convertToInteractive',\n",
              "                                                     [key], {});\n",
              "          if (!dataTable) return;\n",
              "\n",
              "          const docLinkHtml = 'Like what you see? Visit the ' +\n",
              "            '<a target=\"_blank\" href=https://colab.research.google.com/notebooks/data_table.ipynb>data table notebook</a>'\n",
              "            + ' to learn more about interactive tables.';\n",
              "          element.innerHTML = '';\n",
              "          dataTable['output_type'] = 'display_data';\n",
              "          await google.colab.output.renderOutput(dataTable, element);\n",
              "          const docLink = document.createElement('div');\n",
              "          docLink.innerHTML = docLinkHtml;\n",
              "          element.appendChild(docLink);\n",
              "        }\n",
              "      </script>\n",
              "    </div>\n",
              "  </div>\n",
              "  "
            ]
          },
          "metadata": {},
          "execution_count": 191
        }
      ]
    },
    {
      "cell_type": "markdown",
      "metadata": {
        "id": "RGt_10ZAreOv"
      },
      "source": [
        "***\n",
        "### Question 1###\n",
        "Calculate a baseline accuracy measure using the majority class, assuming a target variable of `gender`. The majority class is the most common value of the target variable in a particular dataset. Accuracy is calculated as (true positives + true negatives) / (all negatives and positives)."
      ]
    },
    {
      "cell_type": "markdown",
      "metadata": {
        "id": "UZPiLgekreOw"
      },
      "source": [
        "**Question 1.a**  \n",
        "Find the majority class in the training set. If you always predicted this class in the training set, what would your accuracy be?"
      ]
    },
    {
      "cell_type": "code",
      "metadata": {
        "id": "iYjEFc1greOx",
        "colab": {
          "base_uri": "https://localhost:8080/"
        },
        "outputId": "d55faaf8-10bb-483b-c974-9ba71c5f6f83"
      },
      "source": [
        "df_train.groupby('gender').count()\n",
        "true_pos = sum(df_train['gender'] == 'female')\n",
        "true_neg = 0\n",
        "total = df_train['gender'].count()\n",
        "accuracy = (true_pos + true_neg) / total\n",
        "accuracy"
      ],
      "execution_count": null,
      "outputs": [
        {
          "output_type": "execute_result",
          "data": {
            "text/plain": [
              "0.5427852348993288"
            ]
          },
          "metadata": {},
          "execution_count": 192
        }
      ]
    },
    {
      "cell_type": "markdown",
      "metadata": {
        "id": "RtvFM-hM0y2o"
      },
      "source": [
        "###ANSWER: 0.5427852348993288"
      ]
    },
    {
      "cell_type": "markdown",
      "metadata": {
        "id": "ULPKW0IvreOy"
      },
      "source": [
        "**Question 1.b**   \n",
        "If you always predicted this same class (majority from the training set) in the test set, what would your accuracy be?"
      ]
    },
    {
      "cell_type": "code",
      "metadata": {
        "id": "dfU5mwh405vq",
        "colab": {
          "base_uri": "https://localhost:8080/"
        },
        "outputId": "ab08be62-9c07-45da-e2c4-b978cfc8f0bb"
      },
      "source": [
        "df_test.groupby('gender').count()\n",
        "true_pos = sum(df_test['gender'] == 'female')\n",
        "true_neg = 0\n",
        "total = df_test['gender'].count()\n",
        "accuracy = (true_pos + true_neg) / total\n",
        "accuracy"
      ],
      "execution_count": null,
      "outputs": [
        {
          "output_type": "execute_result",
          "data": {
            "text/plain": [
              "0.5226130653266332"
            ]
          },
          "metadata": {},
          "execution_count": 193
        }
      ]
    },
    {
      "cell_type": "markdown",
      "metadata": {
        "id": "pINRUJxG05v4"
      },
      "source": [
        "###ANSWER: 0.5226130653266332"
      ]
    },
    {
      "cell_type": "markdown",
      "metadata": {
        "id": "GKb2Ju-GreO0"
      },
      "source": [
        "***\n",
        "### Question 2 ###\n",
        "Get started with Neural Networks."
      ]
    },
    {
      "cell_type": "markdown",
      "metadata": {
        "id": "UYI6e3F3reO0"
      },
      "source": [
        "   \n",
        "Choose a NN implementation (eg: scikit-learn) and specify which you choose. Be sure the implementation allows you to modify the number of hidden layers and hidden nodes per layer.  \n",
        "\n",
        "NOTE: When possible, specify the logsig (`sigmoid`/`logistic`) function as the transfer function (another word for activation function) and use Levenberg-Marquardt backpropagation (`lbfgs`). It is possible to specify logistic in Sklearn MLPclassifier (Neural net).  "
      ]
    },
    {
      "cell_type": "markdown",
      "metadata": {
        "id": "4am3sGc4reO1"
      },
      "source": [
        "**Question 2.a**   \n",
        "Train a neural network with a single 10 node hidden layer. Only use the `height` feature of the dataset to predict the `gender`. You will have to change `gender` to a 0 and 1 class. After training, use your trained model to predict the class (`gender`) using the `height` feature from the training set. What is the accuracy of this prediction?"
      ]
    },
    {
      "cell_type": "code",
      "metadata": {
        "id": "jbAzltaw067l",
        "colab": {
          "base_uri": "https://localhost:8080/"
        },
        "outputId": "dd08bbbd-d3c9-4691-eec5-98c6bd4adb20"
      },
      "source": [
        "df_train_encoded = df_train.replace('female', 1).replace('male', 0)\n",
        "\n",
        "X_train = df_train_encoded[['height']]\n",
        "Y_train = df_train_encoded['gender']\n",
        "clf = MLPClassifier(hidden_layer_sizes=10, activation= 'logistic', max_iter=200, alpha=0.0001, solver='lbfgs', verbose=8, random_state=42)\n",
        "clf.fit(X_train, Y_train)\n",
        "y_pred_train = clf.predict(X_train)\n",
        "a = accuracy_score(Y_train, y_pred_train)\n",
        "a"
      ],
      "execution_count": null,
      "outputs": [
        {
          "output_type": "execute_result",
          "data": {
            "text/plain": [
              "0.8439597315436241"
            ]
          },
          "metadata": {},
          "execution_count": 195
        }
      ]
    },
    {
      "cell_type": "markdown",
      "metadata": {
        "id": "EuaCk0l0067q"
      },
      "source": [
        "###ANSWER: 0.8439597315436241"
      ]
    },
    {
      "cell_type": "markdown",
      "metadata": {
        "id": "AkqzIeshreO2"
      },
      "source": [
        "**Question 2.b**  \n",
        "Take the trained model from question 2.a and use it to predict the test set. This can be accomplished by taking the trained model and giving it the `height` feature values from the test set. What is the accuracy of this model on the test set?"
      ]
    },
    {
      "cell_type": "code",
      "metadata": {
        "id": "Tw25ezWp07hj",
        "colab": {
          "base_uri": "https://localhost:8080/"
        },
        "outputId": "744b63ea-7e81-46bc-fd8d-a8d59168c44c"
      },
      "source": [
        "df_test_encoded = df_test.replace('female', 1).replace('male', 0)\n",
        "X_test = df_test_encoded[['height']]\n",
        "Y_test = df_test_encoded['gender']\n",
        "y_pred_test = clf.predict(X_test)\n",
        "b = accuracy_score(Y_test, y_pred_test)\n",
        "b"
      ],
      "execution_count": null,
      "outputs": [
        {
          "output_type": "execute_result",
          "data": {
            "text/plain": [
              "0.8542713567839196"
            ]
          },
          "metadata": {},
          "execution_count": 196
        }
      ]
    },
    {
      "cell_type": "markdown",
      "metadata": {
        "id": "HbHMAFvw07hm"
      },
      "source": [
        "\n",
        "\n",
        "```\n",
        "# This is formatted as code\n",
        "```\n",
        "\n",
        "###ANSWER: 0.8542713567839196"
      ]
    },
    {
      "cell_type": "markdown",
      "metadata": {
        "id": "uMmIfsNEreO3"
      },
      "source": [
        "**Question 2.c**   \n",
        "Neural Networks tend to prefer smaller, normalized feature values. Try taking the log of the `height` feature in both training and testing sets or use a Standard Scalar operation in SKlearn to centre and normalize the data between 0-1 for continuous values. Repeat question 2.a and 2.b with the log version or the normalized and centered version of this feature."
      ]
    },
    {
      "cell_type": "code",
      "metadata": {
        "id": "wDhCZPaU07_8",
        "colab": {
          "base_uri": "https://localhost:8080/"
        },
        "outputId": "1adbd5f9-1a69-4307-e672-12eb9a0d1208"
      },
      "source": [
        "df_train_encoded = df_train.replace('female', 1).replace('male', 0)\n",
        "\n",
        "X_train_log = np.log(df_train_encoded[['height']])\n",
        "Y_train_log = df_train_encoded['gender']\n",
        "clf = MLPClassifier(hidden_layer_sizes=10, activation= 'logistic', max_iter=200, alpha=0.0001, solver='lbfgs', verbose=8, random_state=42)\n",
        "clf.fit(X_train_log, Y_train_log)\n",
        "y_pred_train_log = clf.predict(X_train_log)\n",
        "c = accuracy_score(Y_train_log, y_pred_train_log)\n",
        "c\n",
        "\n",
        "df_test_encoded = df_test.replace('female', 1).replace('male', 0)\n",
        "X_test = np.log(df_test_encoded[['height']])\n",
        "Y_test = df_test_encoded['gender']\n",
        "y_pred_test = clf.predict(X_test)\n",
        "d = accuracy_score(Y_test, y_pred_test)\n",
        "d\n",
        "print(c, d)"
      ],
      "execution_count": null,
      "outputs": [
        {
          "output_type": "stream",
          "name": "stdout",
          "text": [
            "0.8338926174496645 0.8291457286432161\n"
          ]
        }
      ]
    },
    {
      "cell_type": "markdown",
      "metadata": {
        "id": "GTO2KMti07__"
      },
      "source": [
        "###ANSWER: repeat for 2a: 0.8338926174496645\n",
        "### repeat for 2b: 0.8291457286432161\n",
        "\n"
      ]
    },
    {
      "cell_type": "markdown",
      "metadata": {
        "id": "2_SlOdcarePC"
      },
      "source": [
        "***\n",
        "\n",
        "### Question 3###\n",
        "The rest of features in this dataset except a few are categorical. No ML method accepts categorical features, so transform `year`, `eyecolor`, `exercise` into a set of binary features, one feature per unique original feature value, and mark the binary feature as ‘1’ if the feature value matches the original value and ‘0’ otherwise. Using only these binary variable transformed features, train and predict the class of the test set. What was your accuracy using Neural Network with a single 10 node hidden layer? During training, use a maximum number of iterations of 50."
      ]
    },
    {
      "cell_type": "code",
      "metadata": {
        "id": "YjhzBFNV1Aip",
        "colab": {
          "base_uri": "https://localhost:8080/"
        },
        "outputId": "7b8b0efb-f90a-42f1-e5c1-8a5311aab327"
      },
      "source": [
        "df_train.head(10)\n",
        "df_train1 = df_train_encoded[['year', 'eyecolor', 'exercise']]\n",
        "one_hot = pd.get_dummies(df_train1[['year', 'eyecolor', 'exercise']])\n",
        "df_train1 = df_train1.drop(['year', 'eyecolor', 'exercise'], axis=1)\n",
        "df_train1 = df_train1.join(one_hot)\n",
        "\n",
        "df_test1 = df_test_encoded[['year', 'eyecolor', 'exercise']]\n",
        "one_hot = pd.get_dummies(df_test1[['year', 'eyecolor', 'exercise']])\n",
        "df_test1 = df_test1.drop(['year', 'eyecolor', 'exercise'], axis=1)\n",
        "df_test1 = df_test1.join(one_hot)\n",
        "\n",
        "c_X_train = df_train1\n",
        "c_Y_train = df_train_encoded['gender']\n",
        "c_X_test = df_test1\n",
        "c_Y_test = df_test_encoded['gender']\n",
        "\n",
        "clf = MLPClassifier(hidden_layer_sizes=10, activation= 'logistic', solver= 'lbfgs', max_iter= 50, random_state=42)\n",
        "clf.fit(c_X_train, c_Y_train)\n",
        "pred_test = clf.predict(c_X_test)\n",
        "a = accuracy_score(c_Y_test, pred_test)\n",
        "a\n"
      ],
      "execution_count": null,
      "outputs": [
        {
          "output_type": "execute_result",
          "data": {
            "text/plain": [
              "0.5527638190954773"
            ]
          },
          "metadata": {},
          "execution_count": 199
        }
      ]
    },
    {
      "cell_type": "markdown",
      "metadata": {
        "id": "PyQ1EvAY1Ait"
      },
      "source": [
        "###ANSWER: 0.5527638190954773"
      ]
    },
    {
      "cell_type": "markdown",
      "metadata": {
        "id": "dSSr9sBlrePG"
      },
      "source": [
        "***\n",
        "### Question 4###\n",
        "Using a NN, report the accuracy on the test set of a model that trained only on `height` and the `eyecolor` features of instances in the training set."
      ]
    },
    {
      "cell_type": "markdown",
      "metadata": {
        "id": "rMNSlOmJrePG"
      },
      "source": [
        "**Question 4.a**  \n",
        "What is the accuracy on the test set using the original `height` values (no pre-processing) and `eyecolor` as a one-hot?"
      ]
    },
    {
      "cell_type": "code",
      "metadata": {
        "id": "F_vN4tyv1Ckq",
        "colab": {
          "base_uri": "https://localhost:8080/"
        },
        "outputId": "30ec90de-0dd7-4e7f-d3df-f2624ec55fbe"
      },
      "source": [
        "df_train1 = df_train_encoded[['eyecolor', 'height']]\n",
        "one_hot = pd.get_dummies(df_train1[['eyecolor']])\n",
        "df_train1 = df_train1.drop(['eyecolor'], axis=1)\n",
        "df_train1 = df_train1.join(one_hot)\n",
        "df_train1\n",
        "\n",
        "df_test1 = df_test_encoded[['eyecolor', 'height']]\n",
        "one_hot = pd.get_dummies(df_test1[['eyecolor']])\n",
        "df_test1 = df_test1.drop(['eyecolor'], axis=1)\n",
        "df_test1 = df_test1.join(one_hot)\n",
        "\n",
        "c_X_train = df_train1\n",
        "c_Y_train = df_train_encoded['gender']\n",
        "c_X_test = df_test1\n",
        "c_Y_test = df_test_encoded['gender']\n",
        "\n",
        "clf = MLPClassifier(hidden_layer_sizes=10, activation= 'logistic', solver= 'lbfgs', max_iter= 200, random_state=42)\n",
        "clf.fit(c_X_train, c_Y_train)\n",
        "pred_test = clf.predict(c_X_test)\n",
        "a = accuracy_score(c_Y_test, pred_test)\n",
        "a"
      ],
      "execution_count": null,
      "outputs": [
        {
          "output_type": "execute_result",
          "data": {
            "text/plain": [
              "0.8618090452261307"
            ]
          },
          "metadata": {},
          "execution_count": 202
        }
      ]
    },
    {
      "cell_type": "markdown",
      "metadata": {
        "id": "CaL2o0TW1Cks"
      },
      "source": [
        "###ANSWER: 0.8618090452261307"
      ]
    },
    {
      "cell_type": "markdown",
      "metadata": {
        "id": "NC8Ipx9QrePH"
      },
      "source": [
        "**Question 4.b**  \n",
        "What is the accuracy on the test set using the log of `height` values (applied to both training and testing sets) and `eyecolor` as a one-hot?"
      ]
    },
    {
      "cell_type": "code",
      "metadata": {
        "id": "cFvzNv6O1DG3",
        "colab": {
          "base_uri": "https://localhost:8080/"
        },
        "outputId": "63433a98-773d-4470-aaaf-45e5ccebfa91"
      },
      "source": [
        "df_train_encoded['log_h'] = np.log(df_train_encoded[['height']])\n",
        "\n",
        "df_train1 = df_train_encoded[['eyecolor', 'log_h']]\n",
        "one_hot = pd.get_dummies(df_train1[['eyecolor']])\n",
        "df_train1 = df_train1.drop(['eyecolor'], axis=1)\n",
        "df_train1 = df_train1.join(one_hot)\n",
        "df_train1\n",
        "\n",
        "df_test_encoded['log_h'] = np.log(df_test_encoded[['height']])\n",
        "\n",
        "df_test1 = df_test_encoded[['eyecolor', 'log_h']]\n",
        "one_hot = pd.get_dummies(df_test1[['eyecolor']])\n",
        "df_test1 = df_test1.drop(['eyecolor'], axis=1)\n",
        "df_test1 = df_test1.join(one_hot)\n",
        "\n",
        "c_X_train = df_train1\n",
        "c_Y_train = df_train_encoded['gender']\n",
        "c_X_test = df_test1\n",
        "c_Y_test = df_test_encoded['gender']\n",
        "\n",
        "clf = MLPClassifier(hidden_layer_sizes=10, activation= 'logistic', solver= 'lbfgs', max_iter= 200, random_state=42)\n",
        "clf.fit(c_X_train, c_Y_train)\n",
        "pred_test = clf.predict(c_X_test)\n",
        "a = accuracy_score(c_Y_test, pred_test)\n",
        "a"
      ],
      "execution_count": null,
      "outputs": [
        {
          "output_type": "execute_result",
          "data": {
            "text/plain": [
              "0.8618090452261307"
            ]
          },
          "metadata": {},
          "execution_count": 203
        }
      ]
    },
    {
      "cell_type": "markdown",
      "metadata": {
        "id": "Pt3NMp1M1DG4"
      },
      "source": [
        "###ANSWER: 0.8618090452261307"
      ]
    },
    {
      "cell_type": "markdown",
      "metadata": {
        "id": "iYm2jqnprePI"
      },
      "source": [
        "**Question 4.c**  \n",
        "What is the accuracy on the test set using the Z-score of `height` values and `eyecolor` as a one-hot?\n",
        "\n",
        "Z-score is a normalization function. It is the value of a feature minus the average value for that feature (in the training set), divided by the standard deviation of that feature (in the training set). Remember that, whenever applying a function to a feature in the training set, it also has to be applied to that same feature in the test set."
      ]
    },
    {
      "cell_type": "code",
      "metadata": {
        "id": "P3mDjF6N1DoN",
        "colab": {
          "base_uri": "https://localhost:8080/"
        },
        "outputId": "273b635e-44e0-49fa-a6e5-c96dfd548dfd"
      },
      "source": [
        "df_train_encoded['z_h'] = (df_train_encoded['height']- df_train_encoded['height'].mean())/df_train_encoded['height'].std()\n",
        "\n",
        "df_train1 = df_train_encoded[['eyecolor', 'z_h']]\n",
        "one_hot = pd.get_dummies(df_train1[['eyecolor']])\n",
        "df_train1 = df_train1.drop(['eyecolor'], axis=1)\n",
        "df_train1 = df_train1.join(one_hot)\n",
        "df_train1\n",
        "\n",
        "df_test_encoded['z_h'] = (df_test_encoded['height']- df_test_encoded['height'].mean())/df_test_encoded['height'].std()\n",
        "\n",
        "df_test1 = df_test_encoded[['eyecolor', 'z_h']]\n",
        "one_hot = pd.get_dummies(df_test1[['eyecolor']])\n",
        "df_test1 = df_test1.drop(['eyecolor'], axis=1)\n",
        "df_test1 = df_test1.join(one_hot)\n",
        "\n",
        "c_X_train = df_train1\n",
        "c_Y_train = df_train_encoded['gender']\n",
        "c_X_test = df_test1\n",
        "c_Y_test = df_test_encoded['gender']\n",
        "\n",
        "clf = MLPClassifier(hidden_layer_sizes=10, activation= 'logistic', solver= 'lbfgs', max_iter= 200, random_state=42)\n",
        "clf.fit(c_X_train, c_Y_train)\n",
        "pred_test = clf.predict(c_X_test)\n",
        "a = accuracy_score(c_Y_test, pred_test)\n",
        "a"
      ],
      "execution_count": null,
      "outputs": [
        {
          "output_type": "execute_result",
          "data": {
            "text/plain": [
              "0.864321608040201"
            ]
          },
          "metadata": {},
          "execution_count": 204
        }
      ]
    },
    {
      "cell_type": "markdown",
      "metadata": {
        "id": "YAnuY8Sv1DoO"
      },
      "source": [
        "###ANSWER: 0.864321608040201"
      ]
    },
    {
      "cell_type": "markdown",
      "metadata": {
        "id": "Fh9qwu_9rePJ"
      },
      "source": [
        "***\n",
        "### Question 5 ###\n",
        "Repeat question 4 for `exercisehours` & `eyecolor`."
      ]
    },
    {
      "cell_type": "code",
      "metadata": {
        "id": "JAgHz_r-1EMR",
        "colab": {
          "base_uri": "https://localhost:8080/"
        },
        "outputId": "e7926ac7-652d-44ee-f770-5f22b888fc2e"
      },
      "source": [
        "df_train1 = df_train_encoded[['eyecolor', 'exercisehours']]\n",
        "one_hot = pd.get_dummies(df_train1[['eyecolor']])\n",
        "df_train1 = df_train1.drop(['eyecolor'], axis=1)\n",
        "df_train1 = df_train1.join(one_hot)\n",
        "df_train1\n",
        "\n",
        "df_test1 = df_test_encoded[['eyecolor', 'exercisehours']]\n",
        "one_hot = pd.get_dummies(df_test1[['eyecolor']])\n",
        "df_test1 = df_test1.drop(['eyecolor'], axis=1)\n",
        "df_test1 = df_test1.join(one_hot)\n",
        "\n",
        "c_X_train = df_train1\n",
        "c_Y_train = df_train_encoded['gender']\n",
        "c_X_test = df_test1\n",
        "c_Y_test = df_test_encoded['gender']\n",
        "\n",
        "clf = MLPClassifier(hidden_layer_sizes=10, activation= 'logistic', solver= 'lbfgs', max_iter= 200, random_state=42)\n",
        "clf.fit(c_X_train, c_Y_train)\n",
        "pred_test = clf.predict(c_X_test)\n",
        "a = accuracy_score(c_Y_test, pred_test)\n",
        "a"
      ],
      "execution_count": null,
      "outputs": [
        {
          "output_type": "execute_result",
          "data": {
            "text/plain": [
              "0.5728643216080402"
            ]
          },
          "metadata": {},
          "execution_count": 205
        }
      ]
    },
    {
      "cell_type": "code",
      "source": [
        "df_train_encoded= df_train_encoded[df_train_encoded['exercisehours'] != 0]\n",
        "df_train_encoded['log_h'] = np.log(df_train_encoded['exercisehours'])\n",
        "\n",
        "df_train1 = df_train_encoded[['eyecolor', 'log_h']]\n",
        "one_hot = pd.get_dummies(df_train1[['eyecolor']])\n",
        "df_train1 = df_train1.drop(['eyecolor'], axis=1)\n",
        "df_train1 = df_train1.join(one_hot)\n",
        "df_train1\n",
        "\n",
        "df_test_encoded= df_test_encoded[df_test_encoded['exercisehours'] != 0]\n",
        "df_test_encoded['log_h'] = np.log(df_test_encoded['exercisehours'])\n",
        "\n",
        "df_test1 = df_test_encoded[['eyecolor', 'log_h']]\n",
        "one_hot = pd.get_dummies(df_test1[['eyecolor']])\n",
        "df_test1 = df_test1.drop(['eyecolor'], axis=1)\n",
        "df_test1 = df_test1.join(one_hot)\n",
        "\n",
        "c_X_train = df_train1\n",
        "c_Y_train = df_train_encoded['gender']\n",
        "c_X_test = df_test1\n",
        "c_Y_test = df_test_encoded['gender']\n",
        "\n",
        "clf = MLPClassifier(hidden_layer_sizes=10, activation= 'logistic', solver= 'lbfgs', max_iter= 200, random_state=42)\n",
        "clf.fit(c_X_train, c_Y_train)\n",
        "pred_test = clf.predict(c_X_test)\n",
        "a = accuracy_score(c_Y_test, pred_test)\n",
        "a"
      ],
      "metadata": {
        "colab": {
          "base_uri": "https://localhost:8080/"
        },
        "id": "_T_FHSBQ1pSt",
        "outputId": "dbd7c3b7-ca35-46fa-ca36-b0279a1b8980"
      },
      "execution_count": null,
      "outputs": [
        {
          "output_type": "execute_result",
          "data": {
            "text/plain": [
              "0.5774058577405857"
            ]
          },
          "metadata": {},
          "execution_count": 206
        }
      ]
    },
    {
      "cell_type": "code",
      "source": [
        "df_train_encoded['z_h'] = (df_train_encoded['exercisehours']- df_train_encoded['exercisehours'].mean())/df_train_encoded['exercisehours'].std()\n",
        "\n",
        "df_train1 = df_train_encoded[['eyecolor', 'z_h']]\n",
        "one_hot = pd.get_dummies(df_train1[['eyecolor']])\n",
        "df_train1 = df_train1.drop(['eyecolor'], axis=1)\n",
        "df_train1 = df_train1.join(one_hot)\n",
        "df_train1\n",
        "\n",
        "df_test_encoded['z_h'] = (df_test_encoded['exercisehours']- df_test_encoded['exercisehours'].mean())/df_test_encoded['exercisehours'].std()\n",
        "\n",
        "df_test1 = df_test_encoded[['eyecolor', 'z_h']]\n",
        "one_hot = pd.get_dummies(df_test1[['eyecolor']])\n",
        "df_test1 = df_test1.drop(['eyecolor'], axis=1)\n",
        "df_test1 = df_test1.join(one_hot)\n",
        "\n",
        "c_X_train = df_train1\n",
        "c_Y_train = df_train_encoded['gender']\n",
        "c_X_test = df_test1\n",
        "c_Y_test = df_test_encoded['gender']\n",
        "\n",
        "clf = MLPClassifier(hidden_layer_sizes=10, activation= 'logistic', solver= 'lbfgs', max_iter= 200, random_state=42)\n",
        "clf.fit(c_X_train, c_Y_train)\n",
        "pred_test = clf.predict(c_X_test)\n",
        "a = accuracy_score(c_Y_test, pred_test)\n",
        "a"
      ],
      "metadata": {
        "colab": {
          "base_uri": "https://localhost:8080/"
        },
        "id": "NMUY1JiH_T52",
        "outputId": "b95d7e6b-2b27-4db6-9e7b-e8ea38d2f57c"
      },
      "execution_count": null,
      "outputs": [
        {
          "output_type": "execute_result",
          "data": {
            "text/plain": [
              "0.5564853556485355"
            ]
          },
          "metadata": {},
          "execution_count": 207
        }
      ]
    },
    {
      "cell_type": "markdown",
      "metadata": {
        "id": "ZlDfGvy61EMS"
      },
      "source": [
        "###ANSWER: 5a: 0.5728643216080402; 5b: 0.5774058577405857; 5c: 0.5564853556485355"
      ]
    },
    {
      "cell_type": "markdown",
      "metadata": {
        "id": "JYVuaPWgrePL"
      },
      "source": [
        "***\n",
        "### Question 6###\n",
        "Combine the features from question 3, 4, and 5 (`year`, `eyecolor`, `exercise`, `height`, `exercisehours`). For numeric features use the best normalization method from questions 4 and 5."
      ]
    },
    {
      "cell_type": "markdown",
      "metadata": {
        "id": "1iAiFhlFrePM"
      },
      "source": [
        "**Question 6.a**  \n",
        "What was the NN accuracy on the test set using the single 10 node hidden layer?"
      ]
    },
    {
      "cell_type": "code",
      "metadata": {
        "id": "QuLJ6sTB1FfN",
        "colab": {
          "base_uri": "https://localhost:8080/"
        },
        "outputId": "4dd3d5e2-83c9-459c-f0d8-128a7a01fec4"
      },
      "source": [
        "# YOUR CODE HERE\n",
        "df_train_encoded= df_train_encoded[df_train_encoded['exercisehours'] != 0]\n",
        "df_train_encoded['log_h'] = np.log(df_train_encoded['height'])\n",
        "df_train_encoded['log_eh'] = np.log(df_train_encoded['exercisehours'])\n",
        "\n",
        "df_train1 = df_train_encoded[['eyecolor', 'log_h', 'log_eh', 'year', 'exercise']]\n",
        "one_hot = pd.get_dummies(df_train1[['eyecolor', 'year', 'exercise']])\n",
        "df_train1 = df_train1.drop(['eyecolor', 'year', 'exercise'], axis=1)\n",
        "df_train1 = df_train1.join(one_hot)\n",
        "df_train1\n",
        "\n",
        "df_test_encoded= df_test_encoded[df_test_encoded['exercisehours'] != 0]\n",
        "df_test_encoded['log_h'] = np.log(df_test_encoded['height'])\n",
        "df_test_encoded['log_eh'] = np.log(df_test_encoded['exercisehours'])\n",
        "\n",
        "df_test1 = df_test_encoded[['eyecolor', 'log_h', 'log_eh', 'year', 'exercise']]\n",
        "one_hot = pd.get_dummies(df_test1[['eyecolor', 'year', 'exercise']])\n",
        "df_test1 = df_test1.drop(['eyecolor', 'year', 'exercise'], axis=1)\n",
        "df_test1 = df_test1.join(one_hot)\n",
        "\n",
        "c_X_train = df_train1\n",
        "c_Y_train = df_train_encoded['gender']\n",
        "c_X_test = df_test1\n",
        "c_Y_test = df_test_encoded['gender']\n",
        "\n",
        "clf = MLPClassifier(hidden_layer_sizes=10, activation= 'logistic', solver= 'lbfgs', max_iter= 200, random_state=43)\n",
        "clf.fit(c_X_train, c_Y_train)\n",
        "pred_train = clf.predict(c_X_train)\n",
        "a = accuracy_score(c_Y_train, pred_train)\n",
        "\n",
        "\n",
        "clf.fit(c_X_test, c_Y_test)\n",
        "pred_test = clf.predict(c_X_test)\n",
        "b = accuracy_score(c_Y_test, pred_test)\n",
        "\n",
        "clf.fit(c_X_train, c_Y_train)\n",
        "pred_test = clf.predict(c_X_test)\n",
        "c = accuracy_score(c_Y_test, pred_test)\n",
        "\n",
        "print(a, b, c)\n",
        "\n"
      ],
      "execution_count": null,
      "outputs": [
        {
          "output_type": "stream",
          "name": "stdout",
          "text": [
            "0.836 0.8828451882845189 0.803347280334728\n"
          ]
        }
      ]
    },
    {
      "cell_type": "markdown",
      "metadata": {
        "id": "1foS74O01FfP"
      },
      "source": [
        "###ANSWER: 0.803347280334728 trained on training data and applied to test data"
      ]
    },
    {
      "cell_type": "markdown",
      "metadata": {
        "id": "Jusc-kofrePP"
      },
      "source": [
        "***\n",
        "### Question 7- Bonus (10%)###\n",
        "Can you improve your test set prediction accuracy by 5% or more?  \n",
        "\n",
        "See how close to that milestone of improvement you can get by modifying the tuning parameters of  Neural Networks (the number of hidden layers, number of hidden nodes in each layer, the learning rate aka mu). A great guide to tuning parameters is explained in this guide: http://www.csie.ntu.edu.tw/~cjlin/papers/guide/guide.pdf.\n",
        "\n",
        "While the guide is specific to SVM and in particular the C and gamma parameters of the RBF kernel, the method applies to generally to any ML technique with tuning parameters.\n",
        "\n",
        "Please also write a paragraph in a markdown cell below with an explanation of your approach and evaluation metrics.\n"
      ]
    },
    {
      "cell_type": "code",
      "metadata": {
        "id": "qvpoUdeq1GsX"
      },
      "source": [
        "# YOUR CODE HERE"
      ],
      "execution_count": null,
      "outputs": []
    },
    {
      "cell_type": "markdown",
      "metadata": {
        "id": "2rFY8D4Q1GsZ"
      },
      "source": [
        "###ANSWER:"
      ]
    }
  ]
}