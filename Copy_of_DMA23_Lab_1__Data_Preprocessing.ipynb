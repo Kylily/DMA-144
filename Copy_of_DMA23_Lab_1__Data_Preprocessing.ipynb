{
  "nbformat": 4,
  "nbformat_minor": 0,
  "metadata": {
    "kernelspec": {
      "display_name": "Python 3",
      "language": "python",
      "name": "python3"
    },
    "language_info": {
      "codemirror_mode": {
        "name": "ipython",
        "version": 3
      },
      "file_extension": ".py",
      "mimetype": "text/x-python",
      "name": "python",
      "nbconvert_exporter": "python",
      "pygments_lexer": "ipython3",
      "version": "3.6.9"
    },
    "colab": {
      "provenance": []
    }
  },
  "cells": [
    {
      "cell_type": "markdown",
      "metadata": {
        "id": "vKduyi9dItO4"
      },
      "source": [
        "DATA MINING & ANALYTICS (2023)\n",
        "\n",
        "Make sure you fill in any place that says `YOUR CODE HERE` or `YOUR ANSWER HERE`, as well as your name below:"
      ]
    },
    {
      "cell_type": "code",
      "metadata": {
        "id": "FsEVbU41ItO7"
      },
      "source": [
        "NAME = \"Kylie Ren\""
      ],
      "execution_count": null,
      "outputs": []
    },
    {
      "cell_type": "markdown",
      "metadata": {
        "id": "M7sDljEMItPA"
      },
      "source": [
        "---"
      ]
    },
    {
      "cell_type": "markdown",
      "metadata": {
        "deletable": false,
        "editable": false,
        "nbgrader": {
          "checksum": "720281502b9b9c7f8930d61c682cb061",
          "grade": false,
          "grade_id": "cell-731531e531b99c39",
          "locked": true,
          "schema_version": 1,
          "solution": false
        },
        "id": "LJNmSc7sItPB"
      },
      "source": [
        "# Lab 1 - Data Preprocessing\n",
        "\n",
        "Data transformations are useful for preparing a dataset for answering a particular question. Part of this process involves generating features from the dataset you find relevant to the question at hand. For this lab, we will be using a Yelp reviews dataset. Each row in the dataset depicts one review along with the features of the review (the reviewer, the review text, etc.). The goal of this lab is to eventually convert this reviews dataset into a *reviewers* dataset by creating different features describing each reviewer.\n",
        "\n",
        "The submission for this assignment should be done *individually*, but you are allowed to work in groups of 2.\n",
        "\n",
        "# Google Colab\n",
        "\n",
        "Colab is a free online platform provided by Google that allows you to execute python code without any installations on your local machine. Without Colab (using Jupyter notebooks or the command line), you would have to install various packages and manage dependencies.\n",
        "\n",
        "In Colab, you can simply import them, or even install them (for that particular session). Colab can be accessed at the link: https://colab.research.google.com\n",
        "\n",
        "\n",
        "**IMPORTANT: This lab has been shared with only read permissions to you. Make sure to click File -> \"Save a Copy in Drive\" so that you can get your own copy that WILL SAVE YOUR PROGRESS in your own Colab environment.**\n",
        "\n",
        "**If you download the .ipynb and want to further edit the notebook, you will need to make sure you have [Jupyter](https://jupyter.org/install) installed locally so you can view the notebook properly (not as a JSON file).**\n",
        "\n",
        "# Environment Setup\n",
        "Run this cell to setup your environment."
      ]
    },
    {
      "cell_type": "code",
      "metadata": {
        "deletable": false,
        "editable": false,
        "nbgrader": {
          "checksum": "c4f9a2a35aae087d70dccad8514e5e4f",
          "grade": false,
          "grade_id": "cell-88d067a4407f02bf",
          "locked": true,
          "schema_version": 1,
          "solution": false
        },
        "id": "LIH96tFzItPC",
        "outputId": "43f333b6-475d-46fc-fe20-15465294a626",
        "colab": {
          "base_uri": "https://localhost:8080/"
        }
      },
      "source": [
        "# Importing libraries\n",
        "import numpy as np\n",
        "import pandas as pd\n",
        "import math\n",
        "import os\n",
        "print('Libraries Imported')\n",
        "\n",
        "#DOWNLOADING DATASET IF NOT PRESENT\n",
        "!wget -nc http://askoski.berkeley.edu/~zp/yelp_reviews.csv\n",
        "\n",
        "#!unzip yelp_reviews.zip\n",
        "print('Dataset Downloaded: yelp_reviews.csv')\n",
        "df=pd.read_csv('yelp_reviews.csv')\n",
        "print(df.head())\n",
        "\n",
        "print('Setup Complete')"
      ],
      "execution_count": null,
      "outputs": [
        {
          "output_type": "stream",
          "name": "stdout",
          "text": [
            "Libraries Imported\n",
            "File ‘yelp_reviews.csv’ already there; not retrieving.\n",
            "\n",
            "Dataset Downloaded: yelp_reviews.csv\n",
            "     type             business_id                 user_id  stars  \\\n",
            "0  review  mxrXVZWc6PWk81gvOVNOUw  mv7shusL4Xb6TylVYBv4CA      4   \n",
            "1  review  mxrXVZWc6PWk81gvOVNOUw  0aN5QPhs-VwK2vusKG0waQ      5   \n",
            "2  review  kK4AzZ0YWI-U2G-paAL7Fg  0aN5QPhs-VwK2vusKG0waQ      5   \n",
            "3  review  mxrXVZWc6PWk81gvOVNOUw  1JUwyYab-uJzEx_FRd81Zg      5   \n",
            "4  review  mxrXVZWc6PWk81gvOVNOUw  2Zd3Xy8hUVmZkNg7RyNjhg      4   \n",
            "\n",
            "                                                text        date  cool_votes  \\\n",
            "0  Definitely try the duck dish.   I rank it amon...  2011-06-13           0   \n",
            "1  Big Ass Burger was awesome! Great $5 mojitos. ...  2011-06-25           1   \n",
            "2             Unbelievable sandwiches! Good service.  2011-06-25           0   \n",
            "3  Awesome, awesome, awesome! My mom and sister a...  2011-07-18           1   \n",
            "4  I had the ribs they were great.  The beer sele...  2011-07-19           1   \n",
            "\n",
            "   useful_votes  funny_votes  \n",
            "0             0            0  \n",
            "1             0            0  \n",
            "2             0            0  \n",
            "3             1            0  \n",
            "4             0            1  \n",
            "Setup Complete\n"
          ]
        }
      ]
    },
    {
      "cell_type": "markdown",
      "metadata": {
        "deletable": false,
        "editable": false,
        "nbgrader": {
          "checksum": "51be56b978a555a682bd1a02d85a7434",
          "grade": false,
          "grade_id": "cell-63034c0f0a81dc85",
          "locked": true,
          "schema_version": 1,
          "solution": false
        },
        "id": "esN8qRHkItPG"
      },
      "source": [
        "**Q1: What was the highest number of reviews for any one `business_id`?**\n",
        "- For this task, we will need to group the reviews dataset by `business_id`. This will aggregate data for each business, which is what we need for this task. This can be done using the [groupby](https://pandas.pydata.org/pandas-docs/stable/generated/pandas.DataFrame.groupby.html) method. Some pointers of how you could go about this question are listed below:\n",
        "    - ```yelp_businesses = yelp_dataset.groupby('business_id').size() ```\n",
        "    - The `.size()` function counts the number of instances for each `business_id`, which gives us the number of reviews as each instance in this dataset is a review.\n",
        "    - The following command will sort this list, after which you can take note of the highest value: ```sorted_yelp_businesses = yelp_businesses.sort_values(ascending=False, inplace=False)```\n",
        "    - This approach allows you to see the data structure being used in the sort. A quicker approach to getting the max would be to use the max function: ```max(yelp_businesses)```\n",
        "<br>\n",
        "<br>"
      ]
    },
    {
      "cell_type": "code",
      "metadata": {
        "deletable": false,
        "nbgrader": {
          "checksum": "a4b3a58ab839a93b83e514e1db0c11e3",
          "grade": false,
          "grade_id": "cell-b9fd95d084732ea0",
          "locked": false,
          "schema_version": 1,
          "solution": true
        },
        "id": "AbKk0rohItPG"
      },
      "source": [
        "#Make sure you return the answer value in this function\n",
        "def q1(df):\n",
        "  yelp_businesses = df.groupby('business_id').size()\n",
        "  yelp_businesses\n",
        "  sorted_yelp_businesses = yelp_businesses.sort_values(ascending=False, inplace=False)\n",
        "  return sorted_yelp_businesses[0]"
      ],
      "execution_count": null,
      "outputs": []
    },
    {
      "cell_type": "code",
      "metadata": {
        "deletable": false,
        "editable": false,
        "nbgrader": {
          "checksum": "e989434a5e20d93eb1500308f7ecf163",
          "grade": true,
          "grade_id": "cell-1d1402069f0f336b",
          "locked": true,
          "points": 0.5,
          "schema_version": 1,
          "solution": false
        },
        "id": "rzD83og_ItPJ",
        "colab": {
          "base_uri": "https://localhost:8080/"
        },
        "outputId": "b0466c78-26c0-4892-8db5-44d684859871"
      },
      "source": [
        "#This is a graded cell, do not edit\n",
        "print(q1(df))"
      ],
      "execution_count": null,
      "outputs": [
        {
          "output_type": "stream",
          "name": "stdout",
          "text": [
            "4128\n"
          ]
        }
      ]
    },
    {
      "cell_type": "markdown",
      "metadata": {
        "deletable": false,
        "editable": false,
        "nbgrader": {
          "checksum": "6cde0278ab840df1fb90b16ca8c14a8a",
          "grade": false,
          "grade_id": "cell-c998b50208612779",
          "locked": true,
          "schema_version": 1,
          "solution": false
        },
        "id": "fZ_McPZ-ItPL"
      },
      "source": [
        "**Q2: On average, how many reviews did each business get?**"
      ]
    },
    {
      "cell_type": "code",
      "metadata": {
        "deletable": false,
        "nbgrader": {
          "checksum": "6ff0153f15cd01aa6d958646c22cd2eb",
          "grade": false,
          "grade_id": "cell-bda529e7277d1978",
          "locked": false,
          "schema_version": 1,
          "solution": true
        },
        "id": "0V-m-GMAItPM"
      },
      "source": [
        "#Make sure you return the answer value in this function\n",
        "def q2(df):\n",
        "  df = df.groupby('business_id').size()\n",
        "  avg = sum(df) / len(df)\n",
        "  return avg"
      ],
      "execution_count": null,
      "outputs": []
    },
    {
      "cell_type": "code",
      "metadata": {
        "deletable": false,
        "editable": false,
        "nbgrader": {
          "checksum": "72d8375074f6e5eb294215044c460696",
          "grade": true,
          "grade_id": "cell-febce0a51b6da9da",
          "locked": true,
          "points": 0.5,
          "schema_version": 1,
          "solution": false
        },
        "id": "V_9IXDmvItPO",
        "colab": {
          "base_uri": "https://localhost:8080/"
        },
        "outputId": "67a8de10-f687-4d52-f5f0-6bb4bcac119d"
      },
      "source": [
        "#This is a graded cell, do not edit\n",
        "print(q2(df))"
      ],
      "execution_count": null,
      "outputs": [
        {
          "output_type": "stream",
          "name": "stdout",
          "text": [
            "12.63413902163123\n"
          ]
        }
      ]
    },
    {
      "cell_type": "markdown",
      "metadata": {
        "deletable": false,
        "editable": false,
        "nbgrader": {
          "checksum": "d6874779b6c6d2e361fc9891455b6960",
          "grade": false,
          "grade_id": "cell-a568a611d600caa2",
          "locked": true,
          "schema_version": 1,
          "solution": false
        },
        "id": "T9bRVaYZItPQ"
      },
      "source": [
        "**Q3: What is the average number of reviews per reviewer?**"
      ]
    },
    {
      "cell_type": "code",
      "metadata": {
        "deletable": false,
        "nbgrader": {
          "checksum": "369c594937118aa98e0aea635c345943",
          "grade": false,
          "grade_id": "cell-f92e05c4b7a28174",
          "locked": false,
          "schema_version": 1,
          "solution": true
        },
        "id": "J58jfsKTItPQ"
      },
      "source": [
        "#Make sure you return the answer value in this function\n",
        "def q3(df):\n",
        "  df = df.groupby('user_id').size()\n",
        "  avg = sum(df) / len(df)\n",
        "  return avg"
      ],
      "execution_count": null,
      "outputs": []
    },
    {
      "cell_type": "code",
      "metadata": {
        "deletable": false,
        "editable": false,
        "nbgrader": {
          "checksum": "7ed7ddd4ec46674bdd89445dc1034175",
          "grade": true,
          "grade_id": "cell-d76279e8e7d4a79f",
          "locked": true,
          "points": 0.5,
          "schema_version": 1,
          "solution": false
        },
        "id": "Wx5wcx6pItPT",
        "colab": {
          "base_uri": "https://localhost:8080/"
        },
        "outputId": "14d32843-52d8-43f8-8dbf-2b606e2c049f"
      },
      "source": [
        "#This is a graded cell, do not edit\n",
        "print(q3(df))\n"
      ],
      "execution_count": null,
      "outputs": [
        {
          "output_type": "stream",
          "name": "stdout",
          "text": [
            "3.188511934933203\n"
          ]
        }
      ]
    },
    {
      "cell_type": "markdown",
      "metadata": {
        "deletable": false,
        "editable": false,
        "nbgrader": {
          "checksum": "e8d5fd42acde59c3bd19cc07db76ac1c",
          "grade": false,
          "grade_id": "cell-c76f8dc8692f2472",
          "locked": true,
          "schema_version": 1,
          "solution": false
        },
        "id": "oa0doTGiItPW"
      },
      "source": [
        "**Q4: Calculate the total number of cool votes per reviewer, then average these totals across reviewers.**"
      ]
    },
    {
      "cell_type": "code",
      "source": [
        "df.head(2)"
      ],
      "metadata": {
        "colab": {
          "base_uri": "https://localhost:8080/",
          "height": 288
        },
        "id": "iBm4RKo0Whgo",
        "outputId": "de72c106-1177-4e93-b1af-b4ed6cc8cb9c"
      },
      "execution_count": null,
      "outputs": [
        {
          "output_type": "execute_result",
          "data": {
            "text/plain": [
              "     type             business_id                 user_id  stars  \\\n",
              "0  review  mxrXVZWc6PWk81gvOVNOUw  mv7shusL4Xb6TylVYBv4CA      4   \n",
              "1  review  mxrXVZWc6PWk81gvOVNOUw  0aN5QPhs-VwK2vusKG0waQ      5   \n",
              "\n",
              "                                                text        date  cool_votes  \\\n",
              "0  Definitely try the duck dish.   I rank it amon...  2011-06-13           0   \n",
              "1  Big Ass Burger was awesome! Great $5 mojitos. ...  2011-06-25           1   \n",
              "\n",
              "   useful_votes  funny_votes  \n",
              "0             0            0  \n",
              "1             0            0  "
            ],
            "text/html": [
              "\n",
              "  <div id=\"df-12a20690-bc9d-4cbc-9f02-323769622640\" class=\"colab-df-container\">\n",
              "    <div>\n",
              "<style scoped>\n",
              "    .dataframe tbody tr th:only-of-type {\n",
              "        vertical-align: middle;\n",
              "    }\n",
              "\n",
              "    .dataframe tbody tr th {\n",
              "        vertical-align: top;\n",
              "    }\n",
              "\n",
              "    .dataframe thead th {\n",
              "        text-align: right;\n",
              "    }\n",
              "</style>\n",
              "<table border=\"1\" class=\"dataframe\">\n",
              "  <thead>\n",
              "    <tr style=\"text-align: right;\">\n",
              "      <th></th>\n",
              "      <th>type</th>\n",
              "      <th>business_id</th>\n",
              "      <th>user_id</th>\n",
              "      <th>stars</th>\n",
              "      <th>text</th>\n",
              "      <th>date</th>\n",
              "      <th>cool_votes</th>\n",
              "      <th>useful_votes</th>\n",
              "      <th>funny_votes</th>\n",
              "    </tr>\n",
              "  </thead>\n",
              "  <tbody>\n",
              "    <tr>\n",
              "      <th>0</th>\n",
              "      <td>review</td>\n",
              "      <td>mxrXVZWc6PWk81gvOVNOUw</td>\n",
              "      <td>mv7shusL4Xb6TylVYBv4CA</td>\n",
              "      <td>4</td>\n",
              "      <td>Definitely try the duck dish.   I rank it amon...</td>\n",
              "      <td>2011-06-13</td>\n",
              "      <td>0</td>\n",
              "      <td>0</td>\n",
              "      <td>0</td>\n",
              "    </tr>\n",
              "    <tr>\n",
              "      <th>1</th>\n",
              "      <td>review</td>\n",
              "      <td>mxrXVZWc6PWk81gvOVNOUw</td>\n",
              "      <td>0aN5QPhs-VwK2vusKG0waQ</td>\n",
              "      <td>5</td>\n",
              "      <td>Big Ass Burger was awesome! Great $5 mojitos. ...</td>\n",
              "      <td>2011-06-25</td>\n",
              "      <td>1</td>\n",
              "      <td>0</td>\n",
              "      <td>0</td>\n",
              "    </tr>\n",
              "  </tbody>\n",
              "</table>\n",
              "</div>\n",
              "    <div class=\"colab-df-buttons\">\n",
              "\n",
              "  <div class=\"colab-df-container\">\n",
              "    <button class=\"colab-df-convert\" onclick=\"convertToInteractive('df-12a20690-bc9d-4cbc-9f02-323769622640')\"\n",
              "            title=\"Convert this dataframe to an interactive table.\"\n",
              "            style=\"display:none;\">\n",
              "\n",
              "  <svg xmlns=\"http://www.w3.org/2000/svg\" height=\"24px\" viewBox=\"0 -960 960 960\">\n",
              "    <path d=\"M120-120v-720h720v720H120Zm60-500h600v-160H180v160Zm220 220h160v-160H400v160Zm0 220h160v-160H400v160ZM180-400h160v-160H180v160Zm440 0h160v-160H620v160ZM180-180h160v-160H180v160Zm440 0h160v-160H620v160Z\"/>\n",
              "  </svg>\n",
              "    </button>\n",
              "\n",
              "  <style>\n",
              "    .colab-df-container {\n",
              "      display:flex;\n",
              "      gap: 12px;\n",
              "    }\n",
              "\n",
              "    .colab-df-convert {\n",
              "      background-color: #E8F0FE;\n",
              "      border: none;\n",
              "      border-radius: 50%;\n",
              "      cursor: pointer;\n",
              "      display: none;\n",
              "      fill: #1967D2;\n",
              "      height: 32px;\n",
              "      padding: 0 0 0 0;\n",
              "      width: 32px;\n",
              "    }\n",
              "\n",
              "    .colab-df-convert:hover {\n",
              "      background-color: #E2EBFA;\n",
              "      box-shadow: 0px 1px 2px rgba(60, 64, 67, 0.3), 0px 1px 3px 1px rgba(60, 64, 67, 0.15);\n",
              "      fill: #174EA6;\n",
              "    }\n",
              "\n",
              "    .colab-df-buttons div {\n",
              "      margin-bottom: 4px;\n",
              "    }\n",
              "\n",
              "    [theme=dark] .colab-df-convert {\n",
              "      background-color: #3B4455;\n",
              "      fill: #D2E3FC;\n",
              "    }\n",
              "\n",
              "    [theme=dark] .colab-df-convert:hover {\n",
              "      background-color: #434B5C;\n",
              "      box-shadow: 0px 1px 3px 1px rgba(0, 0, 0, 0.15);\n",
              "      filter: drop-shadow(0px 1px 2px rgba(0, 0, 0, 0.3));\n",
              "      fill: #FFFFFF;\n",
              "    }\n",
              "  </style>\n",
              "\n",
              "    <script>\n",
              "      const buttonEl =\n",
              "        document.querySelector('#df-12a20690-bc9d-4cbc-9f02-323769622640 button.colab-df-convert');\n",
              "      buttonEl.style.display =\n",
              "        google.colab.kernel.accessAllowed ? 'block' : 'none';\n",
              "\n",
              "      async function convertToInteractive(key) {\n",
              "        const element = document.querySelector('#df-12a20690-bc9d-4cbc-9f02-323769622640');\n",
              "        const dataTable =\n",
              "          await google.colab.kernel.invokeFunction('convertToInteractive',\n",
              "                                                    [key], {});\n",
              "        if (!dataTable) return;\n",
              "\n",
              "        const docLinkHtml = 'Like what you see? Visit the ' +\n",
              "          '<a target=\"_blank\" href=https://colab.research.google.com/notebooks/data_table.ipynb>data table notebook</a>'\n",
              "          + ' to learn more about interactive tables.';\n",
              "        element.innerHTML = '';\n",
              "        dataTable['output_type'] = 'display_data';\n",
              "        await google.colab.output.renderOutput(dataTable, element);\n",
              "        const docLink = document.createElement('div');\n",
              "        docLink.innerHTML = docLinkHtml;\n",
              "        element.appendChild(docLink);\n",
              "      }\n",
              "    </script>\n",
              "  </div>\n",
              "\n",
              "\n",
              "<div id=\"df-69aa64bc-5869-4d82-9d10-9e393d7d5a96\">\n",
              "  <button class=\"colab-df-quickchart\" onclick=\"quickchart('df-69aa64bc-5869-4d82-9d10-9e393d7d5a96')\"\n",
              "            title=\"Suggest charts.\"\n",
              "            style=\"display:none;\">\n",
              "\n",
              "<svg xmlns=\"http://www.w3.org/2000/svg\" height=\"24px\"viewBox=\"0 0 24 24\"\n",
              "     width=\"24px\">\n",
              "    <g>\n",
              "        <path d=\"M19 3H5c-1.1 0-2 .9-2 2v14c0 1.1.9 2 2 2h14c1.1 0 2-.9 2-2V5c0-1.1-.9-2-2-2zM9 17H7v-7h2v7zm4 0h-2V7h2v10zm4 0h-2v-4h2v4z\"/>\n",
              "    </g>\n",
              "</svg>\n",
              "  </button>\n",
              "\n",
              "<style>\n",
              "  .colab-df-quickchart {\n",
              "      --bg-color: #E8F0FE;\n",
              "      --fill-color: #1967D2;\n",
              "      --hover-bg-color: #E2EBFA;\n",
              "      --hover-fill-color: #174EA6;\n",
              "      --disabled-fill-color: #AAA;\n",
              "      --disabled-bg-color: #DDD;\n",
              "  }\n",
              "\n",
              "  [theme=dark] .colab-df-quickchart {\n",
              "      --bg-color: #3B4455;\n",
              "      --fill-color: #D2E3FC;\n",
              "      --hover-bg-color: #434B5C;\n",
              "      --hover-fill-color: #FFFFFF;\n",
              "      --disabled-bg-color: #3B4455;\n",
              "      --disabled-fill-color: #666;\n",
              "  }\n",
              "\n",
              "  .colab-df-quickchart {\n",
              "    background-color: var(--bg-color);\n",
              "    border: none;\n",
              "    border-radius: 50%;\n",
              "    cursor: pointer;\n",
              "    display: none;\n",
              "    fill: var(--fill-color);\n",
              "    height: 32px;\n",
              "    padding: 0;\n",
              "    width: 32px;\n",
              "  }\n",
              "\n",
              "  .colab-df-quickchart:hover {\n",
              "    background-color: var(--hover-bg-color);\n",
              "    box-shadow: 0 1px 2px rgba(60, 64, 67, 0.3), 0 1px 3px 1px rgba(60, 64, 67, 0.15);\n",
              "    fill: var(--button-hover-fill-color);\n",
              "  }\n",
              "\n",
              "  .colab-df-quickchart-complete:disabled,\n",
              "  .colab-df-quickchart-complete:disabled:hover {\n",
              "    background-color: var(--disabled-bg-color);\n",
              "    fill: var(--disabled-fill-color);\n",
              "    box-shadow: none;\n",
              "  }\n",
              "\n",
              "  .colab-df-spinner {\n",
              "    border: 2px solid var(--fill-color);\n",
              "    border-color: transparent;\n",
              "    border-bottom-color: var(--fill-color);\n",
              "    animation:\n",
              "      spin 1s steps(1) infinite;\n",
              "  }\n",
              "\n",
              "  @keyframes spin {\n",
              "    0% {\n",
              "      border-color: transparent;\n",
              "      border-bottom-color: var(--fill-color);\n",
              "      border-left-color: var(--fill-color);\n",
              "    }\n",
              "    20% {\n",
              "      border-color: transparent;\n",
              "      border-left-color: var(--fill-color);\n",
              "      border-top-color: var(--fill-color);\n",
              "    }\n",
              "    30% {\n",
              "      border-color: transparent;\n",
              "      border-left-color: var(--fill-color);\n",
              "      border-top-color: var(--fill-color);\n",
              "      border-right-color: var(--fill-color);\n",
              "    }\n",
              "    40% {\n",
              "      border-color: transparent;\n",
              "      border-right-color: var(--fill-color);\n",
              "      border-top-color: var(--fill-color);\n",
              "    }\n",
              "    60% {\n",
              "      border-color: transparent;\n",
              "      border-right-color: var(--fill-color);\n",
              "    }\n",
              "    80% {\n",
              "      border-color: transparent;\n",
              "      border-right-color: var(--fill-color);\n",
              "      border-bottom-color: var(--fill-color);\n",
              "    }\n",
              "    90% {\n",
              "      border-color: transparent;\n",
              "      border-bottom-color: var(--fill-color);\n",
              "    }\n",
              "  }\n",
              "</style>\n",
              "\n",
              "  <script>\n",
              "    async function quickchart(key) {\n",
              "      const quickchartButtonEl =\n",
              "        document.querySelector('#' + key + ' button');\n",
              "      quickchartButtonEl.disabled = true;  // To prevent multiple clicks.\n",
              "      quickchartButtonEl.classList.add('colab-df-spinner');\n",
              "      try {\n",
              "        const charts = await google.colab.kernel.invokeFunction(\n",
              "            'suggestCharts', [key], {});\n",
              "      } catch (error) {\n",
              "        console.error('Error during call to suggestCharts:', error);\n",
              "      }\n",
              "      quickchartButtonEl.classList.remove('colab-df-spinner');\n",
              "      quickchartButtonEl.classList.add('colab-df-quickchart-complete');\n",
              "    }\n",
              "    (() => {\n",
              "      let quickchartButtonEl =\n",
              "        document.querySelector('#df-69aa64bc-5869-4d82-9d10-9e393d7d5a96 button');\n",
              "      quickchartButtonEl.style.display =\n",
              "        google.colab.kernel.accessAllowed ? 'block' : 'none';\n",
              "    })();\n",
              "  </script>\n",
              "</div>\n",
              "    </div>\n",
              "  </div>\n"
            ]
          },
          "metadata": {},
          "execution_count": 19
        }
      ]
    },
    {
      "cell_type": "code",
      "metadata": {
        "deletable": false,
        "nbgrader": {
          "checksum": "2db144055be1d1f506af2bbdcf924e58",
          "grade": false,
          "grade_id": "cell-f06192fbabe75195",
          "locked": false,
          "schema_version": 1,
          "solution": true
        },
        "id": "sWuWYjrSItPX"
      },
      "source": [
        "#Make sure you return the answer value in this function\n",
        "def q4(df):\n",
        "  df = df.groupby('user_id')['cool_votes'].sum()\n",
        "  avg = sum(df) / len(df)\n",
        "  return avg"
      ],
      "execution_count": null,
      "outputs": []
    },
    {
      "cell_type": "code",
      "metadata": {
        "deletable": false,
        "editable": false,
        "nbgrader": {
          "checksum": "70b555da34836694349c4923beb1950b",
          "grade": true,
          "grade_id": "cell-cabbe00e6fee304e",
          "locked": true,
          "points": 0.5,
          "schema_version": 1,
          "solution": false
        },
        "id": "z3o9lMo-ItPZ",
        "colab": {
          "base_uri": "https://localhost:8080/"
        },
        "outputId": "a49099fc-83fc-4a5b-da09-2bb564eef214"
      },
      "source": [
        "#This is a graded cell, do not edit\n",
        "print(q4(df))\n"
      ],
      "execution_count": null,
      "outputs": [
        {
          "output_type": "stream",
          "name": "stdout",
          "text": [
            "1.2417282785380945\n"
          ]
        }
      ]
    },
    {
      "cell_type": "markdown",
      "metadata": {
        "deletable": false,
        "editable": false,
        "nbgrader": {
          "checksum": "1e80dfdd5311c1dd540fafe446ad10c3",
          "grade": false,
          "grade_id": "cell-9e278b8cd31ace62",
          "locked": true,
          "schema_version": 1,
          "solution": false
        },
        "id": "fDD4Lh8fItPb"
      },
      "source": [
        "**Q5: Calculate the total number of funny votes per reviewer, then average these totals across reviewers.**"
      ]
    },
    {
      "cell_type": "code",
      "metadata": {
        "deletable": false,
        "nbgrader": {
          "checksum": "cb6393f6479792516d064ab368490d90",
          "grade": false,
          "grade_id": "cell-93635f0a6f297df9",
          "locked": false,
          "schema_version": 1,
          "solution": true
        },
        "id": "KiVt8qB7ItPc"
      },
      "source": [
        "#Make sure you return the answer value in this function\n",
        "def q5(df):\n",
        "  df = df.groupby('user_id')['funny_votes'].sum()\n",
        "  avg = sum(df) / len(df)\n",
        "  return avg"
      ],
      "execution_count": null,
      "outputs": []
    },
    {
      "cell_type": "code",
      "metadata": {
        "deletable": false,
        "editable": false,
        "nbgrader": {
          "checksum": "d3be5fcefa0f798be6504de7f8f1b344",
          "grade": true,
          "grade_id": "cell-4c41413214d2d4f1",
          "locked": true,
          "points": 0.5,
          "schema_version": 1,
          "solution": false
        },
        "id": "bWzUljWAItPe",
        "colab": {
          "base_uri": "https://localhost:8080/"
        },
        "outputId": "4bd108c6-7985-48a5-eb50-5ea25fe73e28"
      },
      "source": [
        "#This is a graded cell, do not edit\n",
        "print(q5(df))\n"
      ],
      "execution_count": null,
      "outputs": [
        {
          "output_type": "stream",
          "name": "stdout",
          "text": [
            "1.10126486404605\n"
          ]
        }
      ]
    },
    {
      "cell_type": "markdown",
      "metadata": {
        "deletable": false,
        "editable": false,
        "nbgrader": {
          "checksum": "e62dd2a28323b8d943f63dda321c3aea",
          "grade": false,
          "grade_id": "cell-9554ed7bdee76fb1",
          "locked": true,
          "schema_version": 1,
          "solution": false
        },
        "id": "qx0rBKw9ItPg"
      },
      "source": [
        "**Q6: Calculate the total number of useful votes each business get, then average these totals across business_ids.**"
      ]
    },
    {
      "cell_type": "code",
      "metadata": {
        "deletable": false,
        "nbgrader": {
          "checksum": "4375ea8e9efa96b5ea65a2f4f553faad",
          "grade": false,
          "grade_id": "cell-2cebd87b7f8b37d1",
          "locked": false,
          "schema_version": 1,
          "solution": true
        },
        "id": "KIYaRM3uItPh"
      },
      "source": [
        "#Make sure you return the answer in this function\n",
        "def q6(df):\n",
        "  df = df.groupby('business_id')['useful_votes'].sum()\n",
        "  avg = sum(df) / len(df)\n",
        "  return avg"
      ],
      "execution_count": null,
      "outputs": []
    },
    {
      "cell_type": "code",
      "metadata": {
        "deletable": false,
        "editable": false,
        "nbgrader": {
          "checksum": "2435ef28744576ab65e21558b65e0a5e",
          "grade": true,
          "grade_id": "cell-1a546329acbcd0e4",
          "locked": true,
          "points": 0.5,
          "schema_version": 1,
          "solution": false
        },
        "id": "xrNe4FWdItPj",
        "colab": {
          "base_uri": "https://localhost:8080/"
        },
        "outputId": "84f90046-872a-48da-ee07-d2eef79d9c46"
      },
      "source": [
        "#This is a graded cell, do not edit\n",
        "print(q6(df))\n"
      ],
      "execution_count": null,
      "outputs": [
        {
          "output_type": "stream",
          "name": "stdout",
          "text": [
            "9.844472147193942\n"
          ]
        }
      ]
    },
    {
      "cell_type": "markdown",
      "metadata": {
        "deletable": false,
        "editable": false,
        "nbgrader": {
          "checksum": "560323764f6c0effd9615228a4dd9537",
          "grade": false,
          "grade_id": "cell-328aa1a4c9a958d8",
          "locked": true,
          "schema_version": 1,
          "solution": false
        },
        "id": "yUBt7rj9ItP-"
      },
      "source": [
        "**Q7: On average, what percentage of a reviewer's votes are cool votes?**\n",
        "\n",
        "(hint1: calculate the percentage of cool votes for each reviewer, then average this percentage across reviewers)\n",
        "\n",
        "(hint2: you should discard reviewers who have absolutely no votes - from cool, funny, or useful votes - from your calculation)"
      ]
    },
    {
      "cell_type": "code",
      "metadata": {
        "deletable": false,
        "nbgrader": {
          "checksum": "c4ca0edbf727b2adc41527ebb2129cef",
          "grade": false,
          "grade_id": "cell-54fe5dd9777347a1",
          "locked": false,
          "schema_version": 1,
          "solution": true
        },
        "id": "LuFzcyytItP-"
      },
      "source": [
        "#Make sure you return the answer in this function\n",
        "#Remember to multiply by 100 for percentages\n",
        "def q7(df):\n",
        "  df = df.groupby('user_id')[[\n",
        "    'cool_votes', 'useful_votes', 'funny_votes']].sum()\n",
        "  total = (df['cool_votes'] + df[\n",
        "      'useful_votes'] + df['funny_votes'])\n",
        "  df['cool_percentage'] = (df['cool_votes'] / total) * 100\n",
        "  df = df.loc[(total != 0)]\n",
        "  avg = sum(df['cool_percentage']) / len(df)\n",
        "  return avg"
      ],
      "execution_count": null,
      "outputs": []
    },
    {
      "cell_type": "code",
      "metadata": {
        "deletable": false,
        "editable": false,
        "nbgrader": {
          "checksum": "6ba2d96b43cc0796b9c8ec31e17fefe9",
          "grade": true,
          "grade_id": "cell-594b1121d785d15e",
          "locked": true,
          "points": 0.5,
          "schema_version": 1,
          "solution": false
        },
        "id": "ftY6isjeItQA",
        "colab": {
          "base_uri": "https://localhost:8080/"
        },
        "outputId": "cbdeeb48-439e-429e-9ef9-62e23d640e08"
      },
      "source": [
        "#This is a graded cell, do not edit\n",
        "#Remember to multiply by 100 for percentages\n",
        "print(round(q7(df),2))\n"
      ],
      "execution_count": null,
      "outputs": [
        {
          "output_type": "stream",
          "name": "stdout",
          "text": [
            "19.27\n"
          ]
        }
      ]
    },
    {
      "cell_type": "markdown",
      "metadata": {
        "deletable": false,
        "editable": false,
        "nbgrader": {
          "checksum": "f7ca49268591f6d357d5e4d4be17e3c9",
          "grade": false,
          "grade_id": "cell-8b434399df89705e",
          "locked": true,
          "schema_version": 1,
          "solution": false
        },
        "id": "zKe8LJJLItQC"
      },
      "source": [
        "**Q8: On average, what percentage of a reviewer's votes are funny votes?**\n",
        "\n",
        "(hint1: calculate the percentage of funny votes for each reviewer, then average this percentage across reviewers)\n",
        "\n",
        "(hint2: you should discard reviewers who have zero total votes from your calculation)"
      ]
    },
    {
      "cell_type": "code",
      "metadata": {
        "deletable": false,
        "nbgrader": {
          "checksum": "b869bd5447e8ea81d0af3cae06012b94",
          "grade": false,
          "grade_id": "cell-a3dc739b16a53957",
          "locked": false,
          "schema_version": 1,
          "solution": true
        },
        "id": "DkXVxKdXItQC"
      },
      "source": [
        "#Make sure you return the answer in this function\n",
        "#Remember to multiply by 100 for percentages\n",
        "def q8(df):\n",
        "  df = df.groupby('user_id')[[\n",
        "    'cool_votes', 'useful_votes', 'funny_votes']].sum()\n",
        "  total = (df['cool_votes'] + df[\n",
        "      'useful_votes'] + df['funny_votes'])\n",
        "  df['funny_percentage'] = (df['funny_votes'] / total) * 100\n",
        "  df = df.loc[(total != 0)]\n",
        "  avg = sum(df['funny_percentage']) / len(df)\n",
        "  return avg"
      ],
      "execution_count": null,
      "outputs": []
    },
    {
      "cell_type": "code",
      "metadata": {
        "deletable": false,
        "editable": false,
        "nbgrader": {
          "checksum": "2ef3655caaaedc3e433262c7db94fb77",
          "grade": true,
          "grade_id": "cell-e7fdee0fd548baf1",
          "locked": true,
          "points": 0.5,
          "schema_version": 1,
          "solution": false
        },
        "id": "q6uEzM9HItQE",
        "colab": {
          "base_uri": "https://localhost:8080/"
        },
        "outputId": "d2a44121-da93-47cd-f790-1cfe5acb2c03"
      },
      "source": [
        "#This is a graded cell, do not edit\n",
        "print(round(q8(df),2))\n"
      ],
      "execution_count": null,
      "outputs": [
        {
          "output_type": "stream",
          "name": "stdout",
          "text": [
            "18.26\n"
          ]
        }
      ]
    },
    {
      "cell_type": "markdown",
      "metadata": {
        "deletable": false,
        "editable": false,
        "nbgrader": {
          "checksum": "3ce1c8eefc6053b8515dc4218c5a0afb",
          "grade": false,
          "grade_id": "cell-40cd96c922286117",
          "locked": true,
          "schema_version": 1,
          "solution": false
        },
        "id": "wYs2eqhSItQI"
      },
      "source": [
        "**Q9: On average, what percentage of a reviewer's votes are useful votes?**\n",
        "\n",
        "(hint1: calculate the percentage of useful votes for each reviewer, then average this percentage across reviewers)\n",
        "\n",
        "(hint2: you should discard reviewers who have zero total votes from your calculation)"
      ]
    },
    {
      "cell_type": "code",
      "metadata": {
        "deletable": false,
        "nbgrader": {
          "checksum": "c8e322eafbf209672785a2c9f7c97f52",
          "grade": false,
          "grade_id": "cell-38769f4cbbe9cb8f",
          "locked": false,
          "schema_version": 1,
          "solution": true
        },
        "id": "56CBDjgrItQI"
      },
      "source": [
        "#Make sure you return the answer in this function\n",
        "def q9(df):\n",
        "  df = df.groupby('user_id')[[\n",
        "    'cool_votes', 'useful_votes', 'funny_votes']].sum()\n",
        "  total = (df['cool_votes'] + df[\n",
        "      'useful_votes'] + df['funny_votes'])\n",
        "  df['useful_percentage'] = (df['useful_votes'] / total) * 100\n",
        "  df = df.loc[(total != 0)]\n",
        "  avg = sum(df['useful_percentage']) / len(df)\n",
        "  return avg"
      ],
      "execution_count": null,
      "outputs": []
    },
    {
      "cell_type": "code",
      "metadata": {
        "deletable": false,
        "editable": false,
        "nbgrader": {
          "checksum": "d3aeca2366b4c12d564167261c6bc6a2",
          "grade": true,
          "grade_id": "cell-590fb1425068cc06",
          "locked": true,
          "points": 0.5,
          "schema_version": 1,
          "solution": false
        },
        "id": "LvE8ZWSOItQL",
        "colab": {
          "base_uri": "https://localhost:8080/"
        },
        "outputId": "65895d2b-ce4e-4c79-a371-d96afef6b0de"
      },
      "source": [
        "#This is a graded cell, do not edit\n",
        "print(round(q9(df),2))\n"
      ],
      "execution_count": null,
      "outputs": [
        {
          "output_type": "stream",
          "name": "stdout",
          "text": [
            "62.47\n"
          ]
        }
      ]
    },
    {
      "cell_type": "markdown",
      "metadata": {
        "deletable": false,
        "editable": false,
        "nbgrader": {
          "checksum": "2efdbde3ea13f0e1829d7488da2c6d92",
          "grade": false,
          "grade_id": "cell-615a3d7b2c4e0e26",
          "locked": true,
          "schema_version": 1,
          "solution": false
        },
        "id": "2ixankjPItQO"
      },
      "source": [
        "**Q10: Find the average review text length (in non-space characters).**"
      ]
    },
    {
      "cell_type": "code",
      "metadata": {
        "deletable": false,
        "nbgrader": {
          "checksum": "59cc81340d9a1967bd6d3a0ffcacdcf3",
          "grade": false,
          "grade_id": "cell-75ec15303c64c506",
          "locked": false,
          "schema_version": 1,
          "solution": true
        },
        "id": "qgwHiHaVItQP"
      },
      "source": [
        "#Make sure you return the answer in this function\n",
        "def q10(df):\n",
        "  df['text'] = df['text'].str.replace(' ', '')\n",
        "  df['word_ct'] = df['text'].str.len()\n",
        "  df_avg_wc = pd.DataFrame(df.groupby('user_id').sum())\n",
        "  avg = sum(df_avg_wc['word_ct']) / len(df['text'])\n",
        "  return avg"
      ],
      "execution_count": null,
      "outputs": []
    },
    {
      "cell_type": "code",
      "metadata": {
        "deletable": false,
        "editable": false,
        "nbgrader": {
          "checksum": "083e5ff6b77629d8784b8f6a30352251",
          "grade": true,
          "grade_id": "cell-d9fb4fc39a0b21c4",
          "locked": true,
          "points": 1,
          "schema_version": 1,
          "solution": false
        },
        "id": "_XmxRXdFItQQ",
        "colab": {
          "base_uri": "https://localhost:8080/"
        },
        "outputId": "6384c606-30a8-4754-a9ef-83f9e5e4df43"
      },
      "source": [
        "#This is a graded cell, do not edit\n",
        "print(round(q10(df),0))\n"
      ],
      "execution_count": null,
      "outputs": [
        {
          "output_type": "stream",
          "name": "stdout",
          "text": [
            "499.0\n"
          ]
        },
        {
          "output_type": "stream",
          "name": "stderr",
          "text": [
            "<ipython-input-58-34741e6c79b0>:5: FutureWarning: The default value of numeric_only in DataFrameGroupBy.sum is deprecated. In a future version, numeric_only will default to False. Either specify numeric_only or select only columns which should be valid for the function.\n",
            "  df_avg_wc = pd.DataFrame(df.groupby('user_id').sum())\n"
          ]
        }
      ]
    },
    {
      "cell_type": "markdown",
      "metadata": {
        "deletable": false,
        "editable": false,
        "nbgrader": {
          "checksum": "54c8c584ece619ea786165e50a4e1002",
          "grade": false,
          "grade_id": "cell-a21a423546eb8654",
          "locked": true,
          "schema_version": 1,
          "solution": false
        },
        "id": "03gWN2PAItQS"
      },
      "source": [
        "**Q11: Find the year in which each reviewer wrote the most reviews. Once you have this for each reviewer, subtract the minimum possible year (2004) from each year so that your final feature values are 0, 1, 2, etc.**\n",
        "\n",
        "**Note: we are looking for the `answer` to be in the format of a Pandas Series with `user_id` as the index and the year (in 0, 1, 2 format as listed above) as the value.**"
      ]
    },
    {
      "cell_type": "code",
      "source": [
        "df.head(3)"
      ],
      "metadata": {
        "colab": {
          "base_uri": "https://localhost:8080/",
          "height": 267
        },
        "id": "nFXDA1SDrvc-",
        "outputId": "79bc6f42-29f5-48c5-e1bc-855ff591d677"
      },
      "execution_count": null,
      "outputs": [
        {
          "output_type": "execute_result",
          "data": {
            "text/plain": [
              "     type             business_id                 user_id  stars  \\\n",
              "0  review  mxrXVZWc6PWk81gvOVNOUw  mv7shusL4Xb6TylVYBv4CA      4   \n",
              "1  review  mxrXVZWc6PWk81gvOVNOUw  0aN5QPhs-VwK2vusKG0waQ      5   \n",
              "2  review  kK4AzZ0YWI-U2G-paAL7Fg  0aN5QPhs-VwK2vusKG0waQ      5   \n",
              "\n",
              "                                                text        date  cool_votes  \\\n",
              "0  Definitelytrytheduckdish.Irankitamongthe10best...  2011-06-13           0   \n",
              "1  BigAssBurgerwasawesome!Great$5mojitos.Servicew...  2011-06-25           1   \n",
              "2                Unbelievablesandwiches!Goodservice.  2011-06-25           0   \n",
              "\n",
              "   useful_votes  funny_votes  word_ct  \n",
              "0             0            0      162  \n",
              "1             0            0       84  \n",
              "2             0            0       35  "
            ],
            "text/html": [
              "\n",
              "  <div id=\"df-37d9aac0-2495-4c07-88df-46c7bb6a928f\" class=\"colab-df-container\">\n",
              "    <div>\n",
              "<style scoped>\n",
              "    .dataframe tbody tr th:only-of-type {\n",
              "        vertical-align: middle;\n",
              "    }\n",
              "\n",
              "    .dataframe tbody tr th {\n",
              "        vertical-align: top;\n",
              "    }\n",
              "\n",
              "    .dataframe thead th {\n",
              "        text-align: right;\n",
              "    }\n",
              "</style>\n",
              "<table border=\"1\" class=\"dataframe\">\n",
              "  <thead>\n",
              "    <tr style=\"text-align: right;\">\n",
              "      <th></th>\n",
              "      <th>type</th>\n",
              "      <th>business_id</th>\n",
              "      <th>user_id</th>\n",
              "      <th>stars</th>\n",
              "      <th>text</th>\n",
              "      <th>date</th>\n",
              "      <th>cool_votes</th>\n",
              "      <th>useful_votes</th>\n",
              "      <th>funny_votes</th>\n",
              "      <th>word_ct</th>\n",
              "    </tr>\n",
              "  </thead>\n",
              "  <tbody>\n",
              "    <tr>\n",
              "      <th>0</th>\n",
              "      <td>review</td>\n",
              "      <td>mxrXVZWc6PWk81gvOVNOUw</td>\n",
              "      <td>mv7shusL4Xb6TylVYBv4CA</td>\n",
              "      <td>4</td>\n",
              "      <td>Definitelytrytheduckdish.Irankitamongthe10best...</td>\n",
              "      <td>2011-06-13</td>\n",
              "      <td>0</td>\n",
              "      <td>0</td>\n",
              "      <td>0</td>\n",
              "      <td>162</td>\n",
              "    </tr>\n",
              "    <tr>\n",
              "      <th>1</th>\n",
              "      <td>review</td>\n",
              "      <td>mxrXVZWc6PWk81gvOVNOUw</td>\n",
              "      <td>0aN5QPhs-VwK2vusKG0waQ</td>\n",
              "      <td>5</td>\n",
              "      <td>BigAssBurgerwasawesome!Great$5mojitos.Servicew...</td>\n",
              "      <td>2011-06-25</td>\n",
              "      <td>1</td>\n",
              "      <td>0</td>\n",
              "      <td>0</td>\n",
              "      <td>84</td>\n",
              "    </tr>\n",
              "    <tr>\n",
              "      <th>2</th>\n",
              "      <td>review</td>\n",
              "      <td>kK4AzZ0YWI-U2G-paAL7Fg</td>\n",
              "      <td>0aN5QPhs-VwK2vusKG0waQ</td>\n",
              "      <td>5</td>\n",
              "      <td>Unbelievablesandwiches!Goodservice.</td>\n",
              "      <td>2011-06-25</td>\n",
              "      <td>0</td>\n",
              "      <td>0</td>\n",
              "      <td>0</td>\n",
              "      <td>35</td>\n",
              "    </tr>\n",
              "  </tbody>\n",
              "</table>\n",
              "</div>\n",
              "    <div class=\"colab-df-buttons\">\n",
              "\n",
              "  <div class=\"colab-df-container\">\n",
              "    <button class=\"colab-df-convert\" onclick=\"convertToInteractive('df-37d9aac0-2495-4c07-88df-46c7bb6a928f')\"\n",
              "            title=\"Convert this dataframe to an interactive table.\"\n",
              "            style=\"display:none;\">\n",
              "\n",
              "  <svg xmlns=\"http://www.w3.org/2000/svg\" height=\"24px\" viewBox=\"0 -960 960 960\">\n",
              "    <path d=\"M120-120v-720h720v720H120Zm60-500h600v-160H180v160Zm220 220h160v-160H400v160Zm0 220h160v-160H400v160ZM180-400h160v-160H180v160Zm440 0h160v-160H620v160ZM180-180h160v-160H180v160Zm440 0h160v-160H620v160Z\"/>\n",
              "  </svg>\n",
              "    </button>\n",
              "\n",
              "  <style>\n",
              "    .colab-df-container {\n",
              "      display:flex;\n",
              "      gap: 12px;\n",
              "    }\n",
              "\n",
              "    .colab-df-convert {\n",
              "      background-color: #E8F0FE;\n",
              "      border: none;\n",
              "      border-radius: 50%;\n",
              "      cursor: pointer;\n",
              "      display: none;\n",
              "      fill: #1967D2;\n",
              "      height: 32px;\n",
              "      padding: 0 0 0 0;\n",
              "      width: 32px;\n",
              "    }\n",
              "\n",
              "    .colab-df-convert:hover {\n",
              "      background-color: #E2EBFA;\n",
              "      box-shadow: 0px 1px 2px rgba(60, 64, 67, 0.3), 0px 1px 3px 1px rgba(60, 64, 67, 0.15);\n",
              "      fill: #174EA6;\n",
              "    }\n",
              "\n",
              "    .colab-df-buttons div {\n",
              "      margin-bottom: 4px;\n",
              "    }\n",
              "\n",
              "    [theme=dark] .colab-df-convert {\n",
              "      background-color: #3B4455;\n",
              "      fill: #D2E3FC;\n",
              "    }\n",
              "\n",
              "    [theme=dark] .colab-df-convert:hover {\n",
              "      background-color: #434B5C;\n",
              "      box-shadow: 0px 1px 3px 1px rgba(0, 0, 0, 0.15);\n",
              "      filter: drop-shadow(0px 1px 2px rgba(0, 0, 0, 0.3));\n",
              "      fill: #FFFFFF;\n",
              "    }\n",
              "  </style>\n",
              "\n",
              "    <script>\n",
              "      const buttonEl =\n",
              "        document.querySelector('#df-37d9aac0-2495-4c07-88df-46c7bb6a928f button.colab-df-convert');\n",
              "      buttonEl.style.display =\n",
              "        google.colab.kernel.accessAllowed ? 'block' : 'none';\n",
              "\n",
              "      async function convertToInteractive(key) {\n",
              "        const element = document.querySelector('#df-37d9aac0-2495-4c07-88df-46c7bb6a928f');\n",
              "        const dataTable =\n",
              "          await google.colab.kernel.invokeFunction('convertToInteractive',\n",
              "                                                    [key], {});\n",
              "        if (!dataTable) return;\n",
              "\n",
              "        const docLinkHtml = 'Like what you see? Visit the ' +\n",
              "          '<a target=\"_blank\" href=https://colab.research.google.com/notebooks/data_table.ipynb>data table notebook</a>'\n",
              "          + ' to learn more about interactive tables.';\n",
              "        element.innerHTML = '';\n",
              "        dataTable['output_type'] = 'display_data';\n",
              "        await google.colab.output.renderOutput(dataTable, element);\n",
              "        const docLink = document.createElement('div');\n",
              "        docLink.innerHTML = docLinkHtml;\n",
              "        element.appendChild(docLink);\n",
              "      }\n",
              "    </script>\n",
              "  </div>\n",
              "\n",
              "\n",
              "<div id=\"df-ac5e4c3e-f34b-4f4c-bd40-e8a438aee811\">\n",
              "  <button class=\"colab-df-quickchart\" onclick=\"quickchart('df-ac5e4c3e-f34b-4f4c-bd40-e8a438aee811')\"\n",
              "            title=\"Suggest charts.\"\n",
              "            style=\"display:none;\">\n",
              "\n",
              "<svg xmlns=\"http://www.w3.org/2000/svg\" height=\"24px\"viewBox=\"0 0 24 24\"\n",
              "     width=\"24px\">\n",
              "    <g>\n",
              "        <path d=\"M19 3H5c-1.1 0-2 .9-2 2v14c0 1.1.9 2 2 2h14c1.1 0 2-.9 2-2V5c0-1.1-.9-2-2-2zM9 17H7v-7h2v7zm4 0h-2V7h2v10zm4 0h-2v-4h2v4z\"/>\n",
              "    </g>\n",
              "</svg>\n",
              "  </button>\n",
              "\n",
              "<style>\n",
              "  .colab-df-quickchart {\n",
              "      --bg-color: #E8F0FE;\n",
              "      --fill-color: #1967D2;\n",
              "      --hover-bg-color: #E2EBFA;\n",
              "      --hover-fill-color: #174EA6;\n",
              "      --disabled-fill-color: #AAA;\n",
              "      --disabled-bg-color: #DDD;\n",
              "  }\n",
              "\n",
              "  [theme=dark] .colab-df-quickchart {\n",
              "      --bg-color: #3B4455;\n",
              "      --fill-color: #D2E3FC;\n",
              "      --hover-bg-color: #434B5C;\n",
              "      --hover-fill-color: #FFFFFF;\n",
              "      --disabled-bg-color: #3B4455;\n",
              "      --disabled-fill-color: #666;\n",
              "  }\n",
              "\n",
              "  .colab-df-quickchart {\n",
              "    background-color: var(--bg-color);\n",
              "    border: none;\n",
              "    border-radius: 50%;\n",
              "    cursor: pointer;\n",
              "    display: none;\n",
              "    fill: var(--fill-color);\n",
              "    height: 32px;\n",
              "    padding: 0;\n",
              "    width: 32px;\n",
              "  }\n",
              "\n",
              "  .colab-df-quickchart:hover {\n",
              "    background-color: var(--hover-bg-color);\n",
              "    box-shadow: 0 1px 2px rgba(60, 64, 67, 0.3), 0 1px 3px 1px rgba(60, 64, 67, 0.15);\n",
              "    fill: var(--button-hover-fill-color);\n",
              "  }\n",
              "\n",
              "  .colab-df-quickchart-complete:disabled,\n",
              "  .colab-df-quickchart-complete:disabled:hover {\n",
              "    background-color: var(--disabled-bg-color);\n",
              "    fill: var(--disabled-fill-color);\n",
              "    box-shadow: none;\n",
              "  }\n",
              "\n",
              "  .colab-df-spinner {\n",
              "    border: 2px solid var(--fill-color);\n",
              "    border-color: transparent;\n",
              "    border-bottom-color: var(--fill-color);\n",
              "    animation:\n",
              "      spin 1s steps(1) infinite;\n",
              "  }\n",
              "\n",
              "  @keyframes spin {\n",
              "    0% {\n",
              "      border-color: transparent;\n",
              "      border-bottom-color: var(--fill-color);\n",
              "      border-left-color: var(--fill-color);\n",
              "    }\n",
              "    20% {\n",
              "      border-color: transparent;\n",
              "      border-left-color: var(--fill-color);\n",
              "      border-top-color: var(--fill-color);\n",
              "    }\n",
              "    30% {\n",
              "      border-color: transparent;\n",
              "      border-left-color: var(--fill-color);\n",
              "      border-top-color: var(--fill-color);\n",
              "      border-right-color: var(--fill-color);\n",
              "    }\n",
              "    40% {\n",
              "      border-color: transparent;\n",
              "      border-right-color: var(--fill-color);\n",
              "      border-top-color: var(--fill-color);\n",
              "    }\n",
              "    60% {\n",
              "      border-color: transparent;\n",
              "      border-right-color: var(--fill-color);\n",
              "    }\n",
              "    80% {\n",
              "      border-color: transparent;\n",
              "      border-right-color: var(--fill-color);\n",
              "      border-bottom-color: var(--fill-color);\n",
              "    }\n",
              "    90% {\n",
              "      border-color: transparent;\n",
              "      border-bottom-color: var(--fill-color);\n",
              "    }\n",
              "  }\n",
              "</style>\n",
              "\n",
              "  <script>\n",
              "    async function quickchart(key) {\n",
              "      const quickchartButtonEl =\n",
              "        document.querySelector('#' + key + ' button');\n",
              "      quickchartButtonEl.disabled = true;  // To prevent multiple clicks.\n",
              "      quickchartButtonEl.classList.add('colab-df-spinner');\n",
              "      try {\n",
              "        const charts = await google.colab.kernel.invokeFunction(\n",
              "            'suggestCharts', [key], {});\n",
              "      } catch (error) {\n",
              "        console.error('Error during call to suggestCharts:', error);\n",
              "      }\n",
              "      quickchartButtonEl.classList.remove('colab-df-spinner');\n",
              "      quickchartButtonEl.classList.add('colab-df-quickchart-complete');\n",
              "    }\n",
              "    (() => {\n",
              "      let quickchartButtonEl =\n",
              "        document.querySelector('#df-ac5e4c3e-f34b-4f4c-bd40-e8a438aee811 button');\n",
              "      quickchartButtonEl.style.display =\n",
              "        google.colab.kernel.accessAllowed ? 'block' : 'none';\n",
              "    })();\n",
              "  </script>\n",
              "</div>\n",
              "    </div>\n",
              "  </div>\n"
            ]
          },
          "metadata": {},
          "execution_count": 60
        }
      ]
    },
    {
      "cell_type": "code",
      "source": [
        "import pandas as pd\n",
        "a = df.copy()\n",
        "a['date'] = pd.to_datetime(a['date'])\n",
        "a['wyear'] = a['date'].dt.year\n",
        "a = a.groupby(['user_id', 'wyear']).size().reset_index(level = 0).groupby('user_id').agg(wyear = (0, 'idxmax'), count=(0, 'max'))\n",
        "a.reset_index()\n",
        "a['year'] = a['wyear'] - 2004\n",
        "a = a.drop(['wyear', 'count'], axis=1)\n",
        "# logic: groupby user id and extract year\n",
        "answer = a"
      ],
      "metadata": {
        "id": "NEhNIzzVDU2s"
      },
      "execution_count": null,
      "outputs": []
    },
    {
      "cell_type": "code",
      "source": [
        "#This is a graded cell, do not edit\n",
        "print(answer.sort_index().head())"
      ],
      "metadata": {
        "id": "sVSBWoYcJSLl",
        "colab": {
          "base_uri": "https://localhost:8080/"
        },
        "outputId": "239bbc7f-0e7e-4251-e6a7-3330725f638a"
      },
      "execution_count": null,
      "outputs": [
        {
          "output_type": "stream",
          "name": "stdout",
          "text": [
            "                        year\n",
            "user_id                     \n",
            "--1Y03CEKR3WDbBjYnsW7A     7\n",
            "--2QZsyXGz1OhiD4-0FQLQ    10\n",
            "--82_AVgRBsLw6Dhy8sEnA     4\n",
            "--8A9o_NeGyt_3kzlXtSdg    11\n",
            "--8WbseBk1NjfPiZWjQ-XQ    12\n"
          ]
        }
      ]
    },
    {
      "cell_type": "markdown",
      "metadata": {
        "deletable": false,
        "editable": false,
        "nbgrader": {
          "checksum": "93f7e9ef2385bdac5184802eb7e1ce75",
          "grade": false,
          "grade_id": "cell-da33d981591f0ff3",
          "locked": true,
          "schema_version": 1,
          "solution": false
        },
        "id": "waqvrQeDItQV"
      },
      "source": [
        "**Q12: Come up with a new feature for each review. This may be derived from existing features.\n",
        "Give your feature the name *my_new_feature.* Display head() of this new feature.**"
      ]
    },
    {
      "cell_type": "code",
      "metadata": {
        "deletable": false,
        "nbgrader": {
          "checksum": "787d48b01fdbfeab0810cceb64c1abb3",
          "grade": true,
          "grade_id": "cell-09bbdc6a2946b441",
          "locked": false,
          "points": 1,
          "schema_version": 1,
          "solution": true
        },
        "id": "j3TZ3TD2ItQW"
      },
      "source": [
        "import datetime\n",
        "a = df.copy()\n",
        "a['date'] = pd.to_datetime(a['date'])\n",
        "a['rev_year'] = a['date'].dt.year\n",
        "a['Current Year'] = datetime.datetime.now().year\n",
        "a['yrs_since_review'] = a['Current Year'] - a['rev_year']\n",
        "\n",
        "my_new_feature = a['yrs_since_review']"
      ],
      "execution_count": null,
      "outputs": []
    },
    {
      "cell_type": "code",
      "source": [
        "#This is a graded cell, do not edit\n",
        "print(my_new_feature.head())"
      ],
      "metadata": {
        "id": "9vuRIWeEKFVb",
        "colab": {
          "base_uri": "https://localhost:8080/"
        },
        "outputId": "0d729d81-af47-4966-c46e-c983cf8543e6"
      },
      "execution_count": null,
      "outputs": [
        {
          "output_type": "stream",
          "name": "stdout",
          "text": [
            "0    12\n",
            "1    12\n",
            "2    12\n",
            "3    12\n",
            "4    12\n",
            "Name: yrs_since_review, dtype: int64\n"
          ]
        }
      ]
    },
    {
      "cell_type": "markdown",
      "source": [
        "*ⓒ Prof. Zachary Pardos, 2023*"
      ],
      "metadata": {
        "id": "IQulSenZDOf9"
      }
    }
  ]
}