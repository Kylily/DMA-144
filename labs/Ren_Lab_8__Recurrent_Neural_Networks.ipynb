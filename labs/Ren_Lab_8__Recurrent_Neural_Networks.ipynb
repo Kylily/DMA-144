{
  "nbformat": 4,
  "nbformat_minor": 0,
  "metadata": {
    "colab": {
      "provenance": []
    },
    "kernelspec": {
      "name": "python3",
      "display_name": "Python 3"
    },
    "accelerator": "GPU",
    "gpuClass": "standard"
  },
  "cells": [
    {
      "cell_type": "markdown",
      "metadata": {
        "id": "9kTKaVK47knP"
      },
      "source": [
        "# Lab 8 Neural Language Model\n",
        "A language model predicts the next word in the sequence based on the specific words that have come before it in the sequence.\n",
        "\n",
        "It is also possible to develop language models at the character level using neural networks. The benefit of character-based language models is their small vocabulary and flexibility in handling any words, punctuation, and other document structure. This comes at the cost of requiring larger models that are slower to train.\n",
        "\n",
        "Nevertheless, in the field of neural language models, character-based models offer a lot of promise for a general, flexible and powerful approach to language modeling."
      ]
    },
    {
      "cell_type": "markdown",
      "metadata": {
        "id": "QK2Ew8_C7knQ"
      },
      "source": [
        "As a prerequisite for the lab, make sure to pip install:\n",
        "- keras\n",
        "- tensorflow\n",
        "- h5py"
      ]
    },
    {
      "cell_type": "markdown",
      "metadata": {
        "id": "xIs5eFI97knR"
      },
      "source": [
        "# Source Text Creation"
      ]
    },
    {
      "cell_type": "markdown",
      "metadata": {
        "id": "zQku8-L97knT"
      },
      "source": [
        "To start out with, we'll be using a simple nursery rhyme. It's quite short so we can actually train something on your CPU and see relatively interesting results. Please copy and paste the following text in a text file and save it as \"rhyme.txt\". Place this in the same directory as this jupyter notebook:"
      ]
    },
    {
      "cell_type": "code",
      "metadata": {
        "id": "6wl1ZLGG7wii",
        "colab": {
          "base_uri": "https://localhost:8080/"
        },
        "outputId": "950219ec-131b-4848-fb3d-6f2f381fdbb1"
      },
      "source": [
        "!pip install tensorflow\n",
        "!pip install keras\n",
        "!pip install h5py"
      ],
      "execution_count": null,
      "outputs": [
        {
          "output_type": "stream",
          "name": "stdout",
          "text": [
            "Looking in indexes: https://pypi.org/simple, https://us-python.pkg.dev/colab-wheels/public/simple/\n",
            "Requirement already satisfied: tensorflow in /usr/local/lib/python3.7/dist-packages (2.9.2)\n",
            "Requirement already satisfied: flatbuffers<2,>=1.12 in /usr/local/lib/python3.7/dist-packages (from tensorflow) (1.12)\n",
            "Requirement already satisfied: google-pasta>=0.1.1 in /usr/local/lib/python3.7/dist-packages (from tensorflow) (0.2.0)\n",
            "Requirement already satisfied: tensorflow-estimator<2.10.0,>=2.9.0rc0 in /usr/local/lib/python3.7/dist-packages (from tensorflow) (2.9.0)\n",
            "Requirement already satisfied: setuptools in /usr/local/lib/python3.7/dist-packages (from tensorflow) (57.4.0)\n",
            "Requirement already satisfied: termcolor>=1.1.0 in /usr/local/lib/python3.7/dist-packages (from tensorflow) (2.1.0)\n",
            "Requirement already satisfied: numpy>=1.20 in /usr/local/lib/python3.7/dist-packages (from tensorflow) (1.21.6)\n",
            "Requirement already satisfied: gast<=0.4.0,>=0.2.1 in /usr/local/lib/python3.7/dist-packages (from tensorflow) (0.4.0)\n",
            "Requirement already satisfied: h5py>=2.9.0 in /usr/local/lib/python3.7/dist-packages (from tensorflow) (3.1.0)\n",
            "Requirement already satisfied: keras<2.10.0,>=2.9.0rc0 in /usr/local/lib/python3.7/dist-packages (from tensorflow) (2.9.0)\n",
            "Requirement already satisfied: grpcio<2.0,>=1.24.3 in /usr/local/lib/python3.7/dist-packages (from tensorflow) (1.50.0)\n",
            "Requirement already satisfied: tensorboard<2.10,>=2.9 in /usr/local/lib/python3.7/dist-packages (from tensorflow) (2.9.1)\n",
            "Requirement already satisfied: typing-extensions>=3.6.6 in /usr/local/lib/python3.7/dist-packages (from tensorflow) (4.1.1)\n",
            "Requirement already satisfied: tensorflow-io-gcs-filesystem>=0.23.1 in /usr/local/lib/python3.7/dist-packages (from tensorflow) (0.27.0)\n",
            "Requirement already satisfied: libclang>=13.0.0 in /usr/local/lib/python3.7/dist-packages (from tensorflow) (14.0.6)\n",
            "Requirement already satisfied: wrapt>=1.11.0 in /usr/local/lib/python3.7/dist-packages (from tensorflow) (1.14.1)\n",
            "Requirement already satisfied: opt-einsum>=2.3.2 in /usr/local/lib/python3.7/dist-packages (from tensorflow) (3.3.0)\n",
            "Requirement already satisfied: absl-py>=1.0.0 in /usr/local/lib/python3.7/dist-packages (from tensorflow) (1.3.0)\n",
            "Requirement already satisfied: keras-preprocessing>=1.1.1 in /usr/local/lib/python3.7/dist-packages (from tensorflow) (1.1.2)\n",
            "Requirement already satisfied: six>=1.12.0 in /usr/local/lib/python3.7/dist-packages (from tensorflow) (1.15.0)\n",
            "Requirement already satisfied: protobuf<3.20,>=3.9.2 in /usr/local/lib/python3.7/dist-packages (from tensorflow) (3.19.6)\n",
            "Requirement already satisfied: packaging in /usr/local/lib/python3.7/dist-packages (from tensorflow) (21.3)\n",
            "Requirement already satisfied: astunparse>=1.6.0 in /usr/local/lib/python3.7/dist-packages (from tensorflow) (1.6.3)\n",
            "Requirement already satisfied: wheel<1.0,>=0.23.0 in /usr/local/lib/python3.7/dist-packages (from astunparse>=1.6.0->tensorflow) (0.38.4)\n",
            "Requirement already satisfied: cached-property in /usr/local/lib/python3.7/dist-packages (from h5py>=2.9.0->tensorflow) (1.5.2)\n",
            "Requirement already satisfied: google-auth-oauthlib<0.5,>=0.4.1 in /usr/local/lib/python3.7/dist-packages (from tensorboard<2.10,>=2.9->tensorflow) (0.4.6)\n",
            "Requirement already satisfied: markdown>=2.6.8 in /usr/local/lib/python3.7/dist-packages (from tensorboard<2.10,>=2.9->tensorflow) (3.4.1)\n",
            "Requirement already satisfied: tensorboard-plugin-wit>=1.6.0 in /usr/local/lib/python3.7/dist-packages (from tensorboard<2.10,>=2.9->tensorflow) (1.8.1)\n",
            "Requirement already satisfied: tensorboard-data-server<0.7.0,>=0.6.0 in /usr/local/lib/python3.7/dist-packages (from tensorboard<2.10,>=2.9->tensorflow) (0.6.1)\n",
            "Requirement already satisfied: requests<3,>=2.21.0 in /usr/local/lib/python3.7/dist-packages (from tensorboard<2.10,>=2.9->tensorflow) (2.23.0)\n",
            "Requirement already satisfied: werkzeug>=1.0.1 in /usr/local/lib/python3.7/dist-packages (from tensorboard<2.10,>=2.9->tensorflow) (1.0.1)\n",
            "Requirement already satisfied: google-auth<3,>=1.6.3 in /usr/local/lib/python3.7/dist-packages (from tensorboard<2.10,>=2.9->tensorflow) (2.14.1)\n",
            "Requirement already satisfied: rsa<5,>=3.1.4 in /usr/local/lib/python3.7/dist-packages (from google-auth<3,>=1.6.3->tensorboard<2.10,>=2.9->tensorflow) (4.9)\n",
            "Requirement already satisfied: cachetools<6.0,>=2.0.0 in /usr/local/lib/python3.7/dist-packages (from google-auth<3,>=1.6.3->tensorboard<2.10,>=2.9->tensorflow) (5.2.0)\n",
            "Requirement already satisfied: pyasn1-modules>=0.2.1 in /usr/local/lib/python3.7/dist-packages (from google-auth<3,>=1.6.3->tensorboard<2.10,>=2.9->tensorflow) (0.2.8)\n",
            "Requirement already satisfied: requests-oauthlib>=0.7.0 in /usr/local/lib/python3.7/dist-packages (from google-auth-oauthlib<0.5,>=0.4.1->tensorboard<2.10,>=2.9->tensorflow) (1.3.1)\n",
            "Requirement already satisfied: importlib-metadata>=4.4 in /usr/local/lib/python3.7/dist-packages (from markdown>=2.6.8->tensorboard<2.10,>=2.9->tensorflow) (4.13.0)\n",
            "Requirement already satisfied: zipp>=0.5 in /usr/local/lib/python3.7/dist-packages (from importlib-metadata>=4.4->markdown>=2.6.8->tensorboard<2.10,>=2.9->tensorflow) (3.10.0)\n",
            "Requirement already satisfied: pyasn1<0.5.0,>=0.4.6 in /usr/local/lib/python3.7/dist-packages (from pyasn1-modules>=0.2.1->google-auth<3,>=1.6.3->tensorboard<2.10,>=2.9->tensorflow) (0.4.8)\n",
            "Requirement already satisfied: urllib3!=1.25.0,!=1.25.1,<1.26,>=1.21.1 in /usr/local/lib/python3.7/dist-packages (from requests<3,>=2.21.0->tensorboard<2.10,>=2.9->tensorflow) (1.24.3)\n",
            "Requirement already satisfied: chardet<4,>=3.0.2 in /usr/local/lib/python3.7/dist-packages (from requests<3,>=2.21.0->tensorboard<2.10,>=2.9->tensorflow) (3.0.4)\n",
            "Requirement already satisfied: certifi>=2017.4.17 in /usr/local/lib/python3.7/dist-packages (from requests<3,>=2.21.0->tensorboard<2.10,>=2.9->tensorflow) (2022.9.24)\n",
            "Requirement already satisfied: idna<3,>=2.5 in /usr/local/lib/python3.7/dist-packages (from requests<3,>=2.21.0->tensorboard<2.10,>=2.9->tensorflow) (2.10)\n",
            "Requirement already satisfied: oauthlib>=3.0.0 in /usr/local/lib/python3.7/dist-packages (from requests-oauthlib>=0.7.0->google-auth-oauthlib<0.5,>=0.4.1->tensorboard<2.10,>=2.9->tensorflow) (3.2.2)\n",
            "Requirement already satisfied: pyparsing!=3.0.5,>=2.0.2 in /usr/local/lib/python3.7/dist-packages (from packaging->tensorflow) (3.0.9)\n",
            "Looking in indexes: https://pypi.org/simple, https://us-python.pkg.dev/colab-wheels/public/simple/\n",
            "Requirement already satisfied: keras in /usr/local/lib/python3.7/dist-packages (2.9.0)\n",
            "Looking in indexes: https://pypi.org/simple, https://us-python.pkg.dev/colab-wheels/public/simple/\n",
            "Requirement already satisfied: h5py in /usr/local/lib/python3.7/dist-packages (3.1.0)\n",
            "Requirement already satisfied: numpy>=1.14.5 in /usr/local/lib/python3.7/dist-packages (from h5py) (1.21.6)\n",
            "Requirement already satisfied: cached-property in /usr/local/lib/python3.7/dist-packages (from h5py) (1.5.2)\n"
          ]
        }
      ]
    },
    {
      "cell_type": "code",
      "metadata": {
        "id": "iqQdG7M68HVt"
      },
      "source": [
        "s='Sing a song of sixpence,\\\n",
        "A pocket full of rye.\\\n",
        "Four and twenty blackbirds,\\\n",
        "Baked in a pie.\\\n",
        "When the pie was opened\\\n",
        "The birds began to sing;\\\n",
        "Wasn’t that a dainty dish,\\\n",
        "To set before the king.\\\n",
        "The king was in his counting house,\\\n",
        "Counting out his money;\\\n",
        "The queen was in the parlour,\\\n",
        "Eating bread and honey.\\\n",
        "The maid was in the garden,\\\n",
        "Hanging out the clothes,\\\n",
        "When down came a blackbird\\\n",
        "And pecked off her nose.'\n",
        "\n",
        "with open('rhymes.txt','w') as f:\n",
        "  f.write(s)"
      ],
      "execution_count": null,
      "outputs": []
    },
    {
      "cell_type": "markdown",
      "metadata": {
        "id": "Gq7wq3fF7knV"
      },
      "source": [
        "    Sing a song of sixpence,\n",
        "    A pocket full of rye.\n",
        "    Four and twenty blackbirds,\n",
        "    Baked in a pie.\n",
        "\n",
        "    When the pie was opened\n",
        "    The birds began to sing;\n",
        "    Wasn’t that a dainty dish,\n",
        "    To set before the king.\n",
        "\n",
        "    The king was in his counting house,\n",
        "    Counting out his money;\n",
        "    The queen was in the parlour,\n",
        "    Eating bread and honey.\n",
        "\n",
        "    The maid was in the garden,\n",
        "    Hanging out the clothes,\n",
        "    When down came a blackbird\n",
        "    And pecked off her nose."
      ]
    },
    {
      "cell_type": "markdown",
      "metadata": {
        "id": "tdOJmdjU7knW"
      },
      "source": [
        "# Sequence Generation\n",
        "\n",
        "A language model must be trained on the text, and in the case of a character-based language model, the input and output sequences must be characters.\n",
        "\n",
        "The number of characters used as input will also define the number of characters that will need to be provided to the model in order to elicit the first predicted character.\n",
        "\n",
        "After the first character has been generated, it can be appended to the input sequence and used as input for the model to generate the next character.\n",
        "\n",
        "Longer sequences offer more context for the model to learn what character to output next but take longer to train and impose more burden on seeding the model when generating text.\n",
        "\n",
        "We will use an arbitrary length of 10 characters for this model.\n",
        "\n",
        "There is not a lot of text, and 10 characters is a few words.\n",
        "\n",
        "We can now transform the raw text into a form that our model can learn; specifically, input and output sequences of characters."
      ]
    },
    {
      "cell_type": "code",
      "metadata": {
        "id": "JjJfvv1U7knY"
      },
      "source": [
        "#load doc into memory\n",
        "def load_doc(filename):\n",
        "    # open the file as read only\n",
        "    file = open(filename, 'r')\n",
        "    # read all text\n",
        "    text = file.read()\n",
        "    # close the file\n",
        "    file.close()\n",
        "    return text\n",
        "# save tokens to file, one dialog per line\n",
        "def save_doc(lines, filename):\n",
        "    data = '\\n'.join(lines)\n",
        "    file = open(filename, 'w')\n",
        "    file.write(data)\n",
        "    file.close()"
      ],
      "execution_count": null,
      "outputs": []
    },
    {
      "cell_type": "code",
      "metadata": {
        "id": "F6GbMmMs7knb",
        "colab": {
          "base_uri": "https://localhost:8080/"
        },
        "outputId": "51b039fd-be70-4d9e-8995-e2b896c03690"
      },
      "source": [
        "#load text\n",
        "raw_text = load_doc('rhymes.txt')\n",
        "print(raw_text)\n",
        "\n",
        "# clean\n",
        "tokens = raw_text.split()\n",
        "raw_text = ' '.join(tokens)\n",
        "\n",
        "# organize into sequences of characters\n",
        "length = 10\n",
        "sequences = list()\n",
        "for i in range(length, len(raw_text)):\n",
        "    # select sequence of tokens\n",
        "    seq = raw_text[i-length:i+1]\n",
        "    # store\n",
        "    sequences.append(seq)\n",
        "print('Total Sequences: %d' % len(sequences))"
      ],
      "execution_count": null,
      "outputs": [
        {
          "output_type": "stream",
          "name": "stdout",
          "text": [
            "Sing a song of sixpence,A pocket full of rye.Four and twenty blackbirds,Baked in a pie.When the pie was openedThe birds began to sing;Wasn’t that a dainty dish,To set before the king.The king was in his counting house,Counting out his money;The queen was in the parlour,Eating bread and honey.The maid was in the garden,Hanging out the clothes,When down came a blackbirdAnd pecked off her nose.\n",
            "Total Sequences: 384\n"
          ]
        }
      ]
    },
    {
      "cell_type": "code",
      "metadata": {
        "id": "iBepEyDn7kne"
      },
      "source": [
        "# save sequences to file\n",
        "out_filename = 'char_sequences.txt'\n",
        "save_doc(sequences, out_filename)"
      ],
      "execution_count": null,
      "outputs": []
    },
    {
      "cell_type": "markdown",
      "metadata": {
        "id": "ohjVbv1l7kng"
      },
      "source": [
        "# Train a Model\n",
        "In this section, we will develop a neural language model for the prepared sequence data.\n",
        "\n",
        "The model will read encoded characters and predict the next character in the sequence. A Long Short-Term Memory recurrent neural network hidden layer will be used to learn the context from the input sequence in order to make the predictions."
      ]
    },
    {
      "cell_type": "code",
      "metadata": {
        "id": "7HBgtQvY7knh"
      },
      "source": [
        "from numpy import array\n",
        "from pickle import dump\n",
        "from tensorflow.keras.utils import to_categorical\n",
        "from keras.models import Sequential\n",
        "from keras.layers import Dense\n",
        "from keras.layers import LSTM\n",
        "\n",
        "# load doc into memory\n",
        "def load_doc(filename):\n",
        "    # open the file as read only\n",
        "    file = open(filename, 'r')\n",
        "    # read all text\n",
        "    text = file.read()\n",
        "    # close the file\n",
        "    file.close()\n",
        "    return text"
      ],
      "execution_count": null,
      "outputs": []
    },
    {
      "cell_type": "code",
      "metadata": {
        "id": "r8ruXoPS7knl"
      },
      "source": [
        "# load\n",
        "\n",
        "in_filename = 'char_sequences.txt'\n",
        "raw_text = load_doc(in_filename)\n",
        "lines = raw_text.split('\\n')"
      ],
      "execution_count": null,
      "outputs": []
    },
    {
      "cell_type": "markdown",
      "metadata": {
        "id": "uTnvoY-f7kno"
      },
      "source": [
        "The sequences of characters must be encoded as integers.This means that each unique character will be assigned a specific integer value and each sequence of characters will be encoded as a sequence of integers. We can create the mapping given a sorted set of unique characters in the raw input data. The mapping is a dictionary of character values to integer values.\n",
        "\n",
        "Next, we can process each sequence of characters one at a time and use the dictionary mapping to look up the integer value for each character. The result is a list of integer lists.\n",
        "\n",
        "We need to know the size of the vocabulary later. We can retrieve this as the size of the dictionary mapping."
      ]
    },
    {
      "cell_type": "code",
      "metadata": {
        "id": "kMndzt5v7kno",
        "colab": {
          "base_uri": "https://localhost:8080/"
        },
        "outputId": "ec99a1df-c2c8-42e4-a4a2-f0b6afc8be5b"
      },
      "source": [
        "# integer encode sequences of characters\n",
        "chars = sorted(list(set(raw_text)))\n",
        "mapping = dict((c, i) for i, c in enumerate(chars))\n",
        "sequences = list()\n",
        "for line in lines:\n",
        "    # integer encode line\n",
        "    encoded_seq = [mapping[char] for char in line]\n",
        "    # store\n",
        "    sequences.append(encoded_seq)\n",
        "\n",
        "# vocabulary size\n",
        "vocab_size = len(mapping)\n",
        "print('Vocabulary Size: %d' % vocab_size)\n",
        "\n",
        "# separate into input and output\n",
        "sequences = array(sequences)\n",
        "X, y = sequences[:,:-1], sequences[:,-1]\n",
        "sequences = [to_categorical(x, num_classes=vocab_size) for x in X]\n",
        "X = array(sequences)\n",
        "y = to_categorical(y, num_classes=vocab_size)"
      ],
      "execution_count": null,
      "outputs": [
        {
          "output_type": "stream",
          "name": "stdout",
          "text": [
            "Vocabulary Size: 38\n"
          ]
        }
      ]
    },
    {
      "cell_type": "code",
      "source": [
        "X.shape, y.shape"
      ],
      "metadata": {
        "colab": {
          "base_uri": "https://localhost:8080/"
        },
        "id": "mRuVxlvFWH_q",
        "outputId": "d417a624-597e-4778-de83-d2408ed3ce25"
      },
      "execution_count": null,
      "outputs": [
        {
          "output_type": "execute_result",
          "data": {
            "text/plain": [
              "((384, 10, 38), (384, 38))"
            ]
          },
          "metadata": {},
          "execution_count": 19
        }
      ]
    },
    {
      "cell_type": "markdown",
      "metadata": {
        "id": "0qyCICfV7knx"
      },
      "source": [
        "The model is defined with an input layer that takes sequences that have 10 time steps and 38 features for the one hot encoded input sequences. Rather than specify these numbers, we use the second and third dimensions on the X input data. This is so that if we change the length of the sequences or size of the vocabulary, we do not need to change the model definition.\n",
        "\n",
        "The model has a single LSTM hidden layer with 75 memory cells. The model has a fully connected output layer that outputs one vector with a probability distribution across all characters in the vocabulary. A softmax activation function is used on the output layer to ensure the output has the properties of a probability distribution.\n",
        "\n",
        "The model is learning a multi-class classification problem, therefore we use the categorical log loss intended for this type of problem. The efficient Adam implementation of gradient descent is used to optimize the model and accuracy is reported at the end of each batch update. The model is fit for 50 training epochs.\n",
        "\n",
        "# To Do:\n",
        "- Try different numbers of memory cells\n",
        "- Try different types and amounts of recurrent and fully connected layers\n",
        "- Try different lengths of training epochs\n",
        "- Try different sequence lengths and pre-processing of data\n",
        "- Try regularization techniques such as Dropout"
      ]
    },
    {
      "cell_type": "code",
      "metadata": {
        "scrolled": false,
        "id": "K1jO9lYX7kny",
        "colab": {
          "base_uri": "https://localhost:8080/"
        },
        "outputId": "686336be-3f0a-497d-ab38-80a28ba8c5ff"
      },
      "source": [
        "# define model\n",
        "model = Sequential()\n",
        "model.add(LSTM(75, input_shape=(X.shape[1], X.shape[2])))\n",
        "model.add(Dense(vocab_size, activation='softmax'))\n",
        "print(model.summary())\n",
        "# compile model\n",
        "model.compile(loss='categorical_crossentropy', optimizer='adam', metrics=['accuracy'])\n",
        "# fit model\n",
        "history=model.fit(X, y, epochs=100)"
      ],
      "execution_count": null,
      "outputs": [
        {
          "output_type": "stream",
          "name": "stdout",
          "text": [
            "Model: \"sequential\"\n",
            "_________________________________________________________________\n",
            " Layer (type)                Output Shape              Param #   \n",
            "=================================================================\n",
            " lstm (LSTM)                 (None, 75)                34200     \n",
            "                                                                 \n",
            " dense (Dense)               (None, 38)                2888      \n",
            "                                                                 \n",
            "=================================================================\n",
            "Total params: 37,088\n",
            "Trainable params: 37,088\n",
            "Non-trainable params: 0\n",
            "_________________________________________________________________\n",
            "None\n",
            "Epoch 1/100\n",
            "12/12 [==============================] - 10s 4ms/step - loss: 3.6083 - accuracy: 0.0938\n",
            "Epoch 2/100\n",
            "12/12 [==============================] - 0s 4ms/step - loss: 3.4893 - accuracy: 0.1615\n",
            "Epoch 3/100\n",
            "12/12 [==============================] - 0s 4ms/step - loss: 3.1784 - accuracy: 0.1589\n",
            "Epoch 4/100\n",
            "12/12 [==============================] - 0s 4ms/step - loss: 3.1019 - accuracy: 0.1589\n",
            "Epoch 5/100\n",
            "12/12 [==============================] - 0s 6ms/step - loss: 3.0606 - accuracy: 0.1589\n",
            "Epoch 6/100\n",
            "12/12 [==============================] - 0s 9ms/step - loss: 3.0442 - accuracy: 0.1589\n",
            "Epoch 7/100\n",
            "12/12 [==============================] - 0s 13ms/step - loss: 3.0325 - accuracy: 0.1589\n",
            "Epoch 8/100\n",
            "12/12 [==============================] - 0s 8ms/step - loss: 3.0174 - accuracy: 0.1589\n",
            "Epoch 9/100\n",
            "12/12 [==============================] - 0s 7ms/step - loss: 3.0071 - accuracy: 0.1667\n",
            "Epoch 10/100\n",
            "12/12 [==============================] - 0s 4ms/step - loss: 2.9926 - accuracy: 0.1589\n",
            "Epoch 11/100\n",
            "12/12 [==============================] - 0s 4ms/step - loss: 2.9790 - accuracy: 0.1719\n",
            "Epoch 12/100\n",
            "12/12 [==============================] - 0s 4ms/step - loss: 2.9693 - accuracy: 0.1667\n",
            "Epoch 13/100\n",
            "12/12 [==============================] - 0s 4ms/step - loss: 2.9580 - accuracy: 0.1823\n",
            "Epoch 14/100\n",
            "12/12 [==============================] - 0s 4ms/step - loss: 2.9218 - accuracy: 0.1797\n",
            "Epoch 15/100\n",
            "12/12 [==============================] - 0s 4ms/step - loss: 2.9012 - accuracy: 0.1771\n",
            "Epoch 16/100\n",
            "12/12 [==============================] - 0s 4ms/step - loss: 2.8726 - accuracy: 0.1797\n",
            "Epoch 17/100\n",
            "12/12 [==============================] - 0s 4ms/step - loss: 2.8484 - accuracy: 0.2005\n",
            "Epoch 18/100\n",
            "12/12 [==============================] - 0s 4ms/step - loss: 2.8133 - accuracy: 0.2005\n",
            "Epoch 19/100\n",
            "12/12 [==============================] - 0s 4ms/step - loss: 2.7869 - accuracy: 0.2240\n",
            "Epoch 20/100\n",
            "12/12 [==============================] - 0s 4ms/step - loss: 2.7568 - accuracy: 0.1979\n",
            "Epoch 21/100\n",
            "12/12 [==============================] - 0s 4ms/step - loss: 2.7335 - accuracy: 0.2292\n",
            "Epoch 22/100\n",
            "12/12 [==============================] - 0s 4ms/step - loss: 2.6984 - accuracy: 0.2266\n",
            "Epoch 23/100\n",
            "12/12 [==============================] - 0s 4ms/step - loss: 2.6698 - accuracy: 0.2344\n",
            "Epoch 24/100\n",
            "12/12 [==============================] - 0s 4ms/step - loss: 2.6325 - accuracy: 0.2474\n",
            "Epoch 25/100\n",
            "12/12 [==============================] - 0s 4ms/step - loss: 2.5992 - accuracy: 0.2839\n",
            "Epoch 26/100\n",
            "12/12 [==============================] - 0s 5ms/step - loss: 2.5491 - accuracy: 0.2526\n",
            "Epoch 27/100\n",
            "12/12 [==============================] - 0s 4ms/step - loss: 2.5170 - accuracy: 0.2630\n",
            "Epoch 28/100\n",
            "12/12 [==============================] - 0s 4ms/step - loss: 2.4858 - accuracy: 0.2891\n",
            "Epoch 29/100\n",
            "12/12 [==============================] - 0s 4ms/step - loss: 2.4439 - accuracy: 0.3099\n",
            "Epoch 30/100\n",
            "12/12 [==============================] - 0s 4ms/step - loss: 2.4239 - accuracy: 0.2995\n",
            "Epoch 31/100\n",
            "12/12 [==============================] - 0s 4ms/step - loss: 2.3791 - accuracy: 0.2995\n",
            "Epoch 32/100\n",
            "12/12 [==============================] - 0s 4ms/step - loss: 2.3388 - accuracy: 0.3359\n",
            "Epoch 33/100\n",
            "12/12 [==============================] - 0s 4ms/step - loss: 2.2852 - accuracy: 0.3203\n",
            "Epoch 34/100\n",
            "12/12 [==============================] - 0s 4ms/step - loss: 2.2598 - accuracy: 0.3177\n",
            "Epoch 35/100\n",
            "12/12 [==============================] - 0s 4ms/step - loss: 2.2296 - accuracy: 0.3490\n",
            "Epoch 36/100\n",
            "12/12 [==============================] - 0s 4ms/step - loss: 2.1607 - accuracy: 0.3620\n",
            "Epoch 37/100\n",
            "12/12 [==============================] - 0s 4ms/step - loss: 2.1189 - accuracy: 0.3802\n",
            "Epoch 38/100\n",
            "12/12 [==============================] - 0s 4ms/step - loss: 2.0981 - accuracy: 0.3958\n",
            "Epoch 39/100\n",
            "12/12 [==============================] - 0s 4ms/step - loss: 2.0875 - accuracy: 0.3906\n",
            "Epoch 40/100\n",
            "12/12 [==============================] - 0s 4ms/step - loss: 2.0176 - accuracy: 0.4167\n",
            "Epoch 41/100\n",
            "12/12 [==============================] - 0s 4ms/step - loss: 2.0025 - accuracy: 0.4193\n",
            "Epoch 42/100\n",
            "12/12 [==============================] - 0s 4ms/step - loss: 1.9324 - accuracy: 0.4557\n",
            "Epoch 43/100\n",
            "12/12 [==============================] - 0s 4ms/step - loss: 1.8780 - accuracy: 0.4375\n",
            "Epoch 44/100\n",
            "12/12 [==============================] - 0s 5ms/step - loss: 1.8354 - accuracy: 0.4818\n",
            "Epoch 45/100\n",
            "12/12 [==============================] - 0s 4ms/step - loss: 1.7852 - accuracy: 0.4557\n",
            "Epoch 46/100\n",
            "12/12 [==============================] - 0s 4ms/step - loss: 1.7613 - accuracy: 0.5130\n",
            "Epoch 47/100\n",
            "12/12 [==============================] - 0s 4ms/step - loss: 1.7141 - accuracy: 0.5052\n",
            "Epoch 48/100\n",
            "12/12 [==============================] - 0s 4ms/step - loss: 1.6633 - accuracy: 0.5312\n",
            "Epoch 49/100\n",
            "12/12 [==============================] - 0s 4ms/step - loss: 1.6176 - accuracy: 0.5312\n",
            "Epoch 50/100\n",
            "12/12 [==============================] - 0s 5ms/step - loss: 1.5904 - accuracy: 0.5677\n",
            "Epoch 51/100\n",
            "12/12 [==============================] - 0s 4ms/step - loss: 1.5556 - accuracy: 0.5677\n",
            "Epoch 52/100\n",
            "12/12 [==============================] - 0s 4ms/step - loss: 1.5119 - accuracy: 0.6042\n",
            "Epoch 53/100\n",
            "12/12 [==============================] - 0s 5ms/step - loss: 1.4815 - accuracy: 0.5833\n",
            "Epoch 54/100\n",
            "12/12 [==============================] - 0s 4ms/step - loss: 1.4108 - accuracy: 0.6510\n",
            "Epoch 55/100\n",
            "12/12 [==============================] - 0s 4ms/step - loss: 1.3784 - accuracy: 0.6250\n",
            "Epoch 56/100\n",
            "12/12 [==============================] - 0s 4ms/step - loss: 1.3430 - accuracy: 0.6458\n",
            "Epoch 57/100\n",
            "12/12 [==============================] - 0s 4ms/step - loss: 1.3276 - accuracy: 0.6589\n",
            "Epoch 58/100\n",
            "12/12 [==============================] - 0s 4ms/step - loss: 1.2712 - accuracy: 0.6823\n",
            "Epoch 59/100\n",
            "12/12 [==============================] - 0s 4ms/step - loss: 1.2327 - accuracy: 0.6875\n",
            "Epoch 60/100\n",
            "12/12 [==============================] - 0s 4ms/step - loss: 1.1805 - accuracy: 0.7266\n",
            "Epoch 61/100\n",
            "12/12 [==============================] - 0s 7ms/step - loss: 1.1528 - accuracy: 0.7448\n",
            "Epoch 62/100\n",
            "12/12 [==============================] - 0s 6ms/step - loss: 1.1178 - accuracy: 0.7604\n",
            "Epoch 63/100\n",
            "12/12 [==============================] - 0s 9ms/step - loss: 1.0838 - accuracy: 0.7839\n",
            "Epoch 64/100\n",
            "12/12 [==============================] - 0s 8ms/step - loss: 1.0455 - accuracy: 0.7786\n",
            "Epoch 65/100\n",
            "12/12 [==============================] - 0s 7ms/step - loss: 1.0113 - accuracy: 0.7969\n",
            "Epoch 66/100\n",
            "12/12 [==============================] - 0s 7ms/step - loss: 0.9771 - accuracy: 0.8047\n",
            "Epoch 67/100\n",
            "12/12 [==============================] - 0s 7ms/step - loss: 0.9448 - accuracy: 0.8125\n",
            "Epoch 68/100\n",
            "12/12 [==============================] - 0s 7ms/step - loss: 0.8987 - accuracy: 0.8464\n",
            "Epoch 69/100\n",
            "12/12 [==============================] - 0s 12ms/step - loss: 0.8882 - accuracy: 0.8307\n",
            "Epoch 70/100\n",
            "12/12 [==============================] - 0s 7ms/step - loss: 0.8451 - accuracy: 0.8490\n",
            "Epoch 71/100\n",
            "12/12 [==============================] - 0s 8ms/step - loss: 0.8084 - accuracy: 0.8620\n",
            "Epoch 72/100\n",
            "12/12 [==============================] - 0s 10ms/step - loss: 0.7768 - accuracy: 0.8854\n",
            "Epoch 73/100\n",
            "12/12 [==============================] - 0s 10ms/step - loss: 0.7390 - accuracy: 0.8906\n",
            "Epoch 74/100\n",
            "12/12 [==============================] - 0s 4ms/step - loss: 0.7113 - accuracy: 0.8932\n",
            "Epoch 75/100\n",
            "12/12 [==============================] - 0s 4ms/step - loss: 0.6934 - accuracy: 0.8958\n",
            "Epoch 76/100\n",
            "12/12 [==============================] - 0s 4ms/step - loss: 0.6759 - accuracy: 0.9010\n",
            "Epoch 77/100\n",
            "12/12 [==============================] - 0s 4ms/step - loss: 0.6430 - accuracy: 0.9167\n",
            "Epoch 78/100\n",
            "12/12 [==============================] - 0s 4ms/step - loss: 0.6121 - accuracy: 0.9245\n",
            "Epoch 79/100\n",
            "12/12 [==============================] - 0s 4ms/step - loss: 0.5882 - accuracy: 0.9219\n",
            "Epoch 80/100\n",
            "12/12 [==============================] - 0s 4ms/step - loss: 0.5637 - accuracy: 0.9349\n",
            "Epoch 81/100\n",
            "12/12 [==============================] - 0s 4ms/step - loss: 0.5409 - accuracy: 0.9219\n",
            "Epoch 82/100\n",
            "12/12 [==============================] - 0s 4ms/step - loss: 0.5212 - accuracy: 0.9375\n",
            "Epoch 83/100\n",
            "12/12 [==============================] - 0s 4ms/step - loss: 0.4943 - accuracy: 0.9531\n",
            "Epoch 84/100\n",
            "12/12 [==============================] - 0s 4ms/step - loss: 0.4782 - accuracy: 0.9531\n",
            "Epoch 85/100\n",
            "12/12 [==============================] - 0s 5ms/step - loss: 0.4570 - accuracy: 0.9531\n",
            "Epoch 86/100\n",
            "12/12 [==============================] - 0s 4ms/step - loss: 0.4427 - accuracy: 0.9609\n",
            "Epoch 87/100\n",
            "12/12 [==============================] - 0s 4ms/step - loss: 0.4239 - accuracy: 0.9583\n",
            "Epoch 88/100\n",
            "12/12 [==============================] - 0s 4ms/step - loss: 0.4098 - accuracy: 0.9714\n",
            "Epoch 89/100\n",
            "12/12 [==============================] - 0s 4ms/step - loss: 0.3963 - accuracy: 0.9688\n",
            "Epoch 90/100\n",
            "12/12 [==============================] - 0s 4ms/step - loss: 0.3882 - accuracy: 0.9740\n",
            "Epoch 91/100\n",
            "12/12 [==============================] - 0s 4ms/step - loss: 0.3706 - accuracy: 0.9766\n",
            "Epoch 92/100\n",
            "12/12 [==============================] - 0s 4ms/step - loss: 0.3443 - accuracy: 0.9740\n",
            "Epoch 93/100\n",
            "12/12 [==============================] - 0s 5ms/step - loss: 0.3300 - accuracy: 0.9766\n",
            "Epoch 94/100\n",
            "12/12 [==============================] - 0s 4ms/step - loss: 0.3153 - accuracy: 0.9818\n",
            "Epoch 95/100\n",
            "12/12 [==============================] - 0s 4ms/step - loss: 0.3046 - accuracy: 0.9792\n",
            "Epoch 96/100\n",
            "12/12 [==============================] - 0s 5ms/step - loss: 0.2962 - accuracy: 0.9922\n",
            "Epoch 97/100\n",
            "12/12 [==============================] - 0s 4ms/step - loss: 0.2838 - accuracy: 0.9922\n",
            "Epoch 98/100\n",
            "12/12 [==============================] - 0s 5ms/step - loss: 0.2765 - accuracy: 0.9896\n",
            "Epoch 99/100\n",
            "12/12 [==============================] - 0s 4ms/step - loss: 0.2662 - accuracy: 0.9896\n",
            "Epoch 100/100\n",
            "12/12 [==============================] - 0s 5ms/step - loss: 0.2548 - accuracy: 0.9870\n"
          ]
        }
      ]
    },
    {
      "cell_type": "code",
      "metadata": {
        "id": "raAPR9Qp7kn1"
      },
      "source": [
        "# save the model to file\n",
        "model.save('model.h5')\n",
        "# save the mapping\n",
        "dump(mapping, open('mapping.pkl', 'wb'))"
      ],
      "execution_count": null,
      "outputs": []
    },
    {
      "cell_type": "markdown",
      "metadata": {
        "id": "vv4Q4Rkf7kn4"
      },
      "source": [
        "# Generating Text"
      ]
    },
    {
      "cell_type": "markdown",
      "metadata": {
        "id": "EigunCf57kn6"
      },
      "source": [
        "We must provide sequences of 10 characters as input to the model in order to start the generation process. We will pick these manually. A given input sequence will need to be prepared in the same way as preparing the training data for the model."
      ]
    },
    {
      "cell_type": "code",
      "metadata": {
        "id": "6UCWctow7kn-"
      },
      "source": [
        "from pickle import load\n",
        "import numpy as np\n",
        "from keras.models import load_model\n",
        "from tensorflow.keras.utils import to_categorical\n",
        "from keras_preprocessing.sequence import pad_sequences\n",
        "\n",
        "# generate a sequence of characters with a language model\n",
        "def generate_seq(model, mapping, seq_length, seed_text, n_chars):\n",
        "    in_text = seed_text\n",
        "    # generate a fixed number of characters\n",
        "    for _ in range(n_chars):\n",
        "        # encode the characters as integers\n",
        "        encoded = [mapping[char] for char in in_text]\n",
        "        # truncate sequences to a fixed length\n",
        "        encoded = pad_sequences([encoded], maxlen=seq_length, truncating='pre')\n",
        "        # one hot encode\n",
        "        encoded = to_categorical(encoded, num_classes=len(mapping))\n",
        "        # predict character\n",
        "        yhat = np.argmax(model.predict(encoded), axis=-1)\n",
        "        # reverse map integer to character\n",
        "        out_char = ''\n",
        "        for char, index in mapping.items():\n",
        "            if index == yhat:\n",
        "                out_char = char\n",
        "                break\n",
        "        # append to input\n",
        "        in_text += char\n",
        "    return in_text\n",
        "\n",
        "# load the model\n",
        "model = load_model('model.h5')\n",
        "# load the mapping\n",
        "mapping = load(open('mapping.pkl', 'rb'))"
      ],
      "execution_count": null,
      "outputs": []
    },
    {
      "cell_type": "markdown",
      "metadata": {
        "id": "PXn18EY57koA"
      },
      "source": [
        "Running the example generates three sequences of text.\n",
        "\n",
        "The first is a test to see how the model does at starting from the beginning of the rhyme. The second is a test to see how well it does at beginning in the middle of a line. The final example is a test to see how well it does with a sequence of characters never seen before."
      ]
    },
    {
      "cell_type": "code",
      "metadata": {
        "id": "5UhgrJYh7koB",
        "colab": {
          "base_uri": "https://localhost:8080/"
        },
        "outputId": "51a00d07-7a7c-4c7a-c278-b1054d37c312"
      },
      "source": [
        "# test start of rhyme\n",
        "print(generate_seq(model, mapping, 10, 'Sing a son', 20))\n",
        "# test mid-line\n",
        "print(generate_seq(model, mapping, 10, 'king was i', 20))\n",
        "# test not in original\n",
        "print(generate_seq(model, mapping, 10, 'hello worl', 20))"
      ],
      "execution_count": null,
      "outputs": [
        {
          "output_type": "stream",
          "name": "stdout",
          "text": [
            "1/1 [==============================] - 0s 411ms/step\n",
            "1/1 [==============================] - 0s 18ms/step\n",
            "1/1 [==============================] - 0s 17ms/step\n",
            "1/1 [==============================] - 0s 16ms/step\n",
            "1/1 [==============================] - 0s 19ms/step\n",
            "1/1 [==============================] - 0s 19ms/step\n",
            "1/1 [==============================] - 0s 20ms/step\n",
            "1/1 [==============================] - 0s 21ms/step\n",
            "1/1 [==============================] - 0s 18ms/step\n",
            "1/1 [==============================] - 0s 16ms/step\n",
            "1/1 [==============================] - 0s 19ms/step\n",
            "1/1 [==============================] - 0s 18ms/step\n",
            "1/1 [==============================] - 0s 16ms/step\n",
            "1/1 [==============================] - 0s 20ms/step\n",
            "1/1 [==============================] - 0s 16ms/step\n",
            "1/1 [==============================] - 0s 15ms/step\n",
            "1/1 [==============================] - 0s 16ms/step\n",
            "1/1 [==============================] - 0s 15ms/step\n",
            "1/1 [==============================] - 0s 15ms/step\n",
            "1/1 [==============================] - 0s 19ms/step\n",
            "Sing a song of sixpence,A pock\n",
            "1/1 [==============================] - 0s 18ms/step\n",
            "1/1 [==============================] - 0s 17ms/step\n",
            "1/1 [==============================] - 0s 18ms/step\n",
            "1/1 [==============================] - 0s 19ms/step\n",
            "1/1 [==============================] - 0s 19ms/step\n",
            "1/1 [==============================] - 0s 17ms/step\n",
            "1/1 [==============================] - 0s 18ms/step\n",
            "1/1 [==============================] - 0s 21ms/step\n",
            "1/1 [==============================] - 0s 32ms/step\n",
            "1/1 [==============================] - 0s 25ms/step\n",
            "1/1 [==============================] - 0s 50ms/step\n",
            "1/1 [==============================] - 0s 16ms/step\n",
            "1/1 [==============================] - 0s 19ms/step\n",
            "1/1 [==============================] - 0s 19ms/step\n",
            "1/1 [==============================] - 0s 17ms/step\n",
            "1/1 [==============================] - 0s 19ms/step\n",
            "1/1 [==============================] - 0s 19ms/step\n",
            "1/1 [==============================] - 0s 17ms/step\n",
            "1/1 [==============================] - 0s 21ms/step\n",
            "1/1 [==============================] - 0s 18ms/step\n",
            "king was in his pountiTheout i\n",
            "1/1 [==============================] - 0s 22ms/step\n",
            "1/1 [==============================] - 0s 18ms/step\n",
            "1/1 [==============================] - 0s 22ms/step\n",
            "1/1 [==============================] - 0s 18ms/step\n",
            "1/1 [==============================] - 0s 16ms/step\n",
            "1/1 [==============================] - 0s 20ms/step\n",
            "1/1 [==============================] - 0s 18ms/step\n",
            "1/1 [==============================] - 0s 23ms/step\n",
            "1/1 [==============================] - 0s 17ms/step\n",
            "1/1 [==============================] - 0s 19ms/step\n",
            "1/1 [==============================] - 0s 20ms/step\n",
            "1/1 [==============================] - 0s 18ms/step\n",
            "1/1 [==============================] - 0s 19ms/step\n",
            "1/1 [==============================] - 0s 19ms/step\n",
            "1/1 [==============================] - 0s 18ms/step\n",
            "1/1 [==============================] - 0s 17ms/step\n",
            "1/1 [==============================] - 0s 15ms/step\n",
            "1/1 [==============================] - 0s 19ms/step\n",
            "1/1 [==============================] - 0s 19ms/step\n",
            "1/1 [==============================] - 0s 16ms/step\n",
            "hello worle.Fmeak wn  ainy.TTe\n"
          ]
        }
      ]
    },
    {
      "cell_type": "markdown",
      "metadata": {
        "id": "UXhN-xhG7koE"
      },
      "source": [
        "If the results aren't satisfactory, try out the suggestions above or these below:\n",
        "- Padding. Update the example to provides sequences line by line only and use padding to fill out each sequence to the maximum line length.\n",
        "- Sequence Length. Experiment with different sequence lengths and see how they impact the behavior of the model.\n",
        "- Tune Model. Experiment with different model configurations, such as the number of memory cells and epochs, and try to develop a better model for fewer resources.\n"
      ]
    },
    {
      "cell_type": "markdown",
      "metadata": {
        "id": "7kyXdm-f7koF"
      },
      "source": [
        "# Deliverables to receive credit\n",
        "\n",
        "1. (4 points) Optimize the cells above to tune the model so that it generates text that closely resembles the orginal line from the rhyme, or at least generates sensible words. It's okay if the third example using unseen text still looks somewhat strange  though. Again, this is a toy problem, as language models require a lot of computation. This toy problem is great for rapid experimentation to explore different aspects of deep learning language models.\n",
        "2. (3 points) Write a function to split the text corpus file into training and validation and pipe the validation data into the model.fit() function to be able to track validation error per epoch. Lookup Keras documentation to see how this is handled.\n",
        "3. (3 points) Write a summary (methods and results) in the cells below of the different things you applied. You must include your intuitions behind what did work and what did not work well.\n",
        "4. (Extra Credit 2.5 points) Do something even more interesting. Try a different source text. Train a word-level model. We'll leave it up to your creativity to explore and write a summary of your methods and results.\n"
      ]
    },
    {
      "cell_type": "code",
      "metadata": {
        "id": "njvIURzq7koG"
      },
      "source": [],
      "execution_count": null,
      "outputs": []
    },
    {
      "cell_type": "code",
      "metadata": {
        "id": "bh9kQZnr7koK"
      },
      "source": [],
      "execution_count": null,
      "outputs": []
    }
  ]
}
